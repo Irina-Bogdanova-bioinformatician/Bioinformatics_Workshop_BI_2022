{
  "nbformat": 4,
  "nbformat_minor": 0,
  "metadata": {
    "colab": {
      "provenance": [],
      "collapsed_sections": [],
      "toc_visible": true,
      "mount_file_id": "1-GA5zpG6cQPm3MnxeH14fAaSjWlAgK27",
      "authorship_tag": "ABX9TyNhP09EWiTsfJh7Dl3NbGRt",
      "include_colab_link": true
    },
    "kernelspec": {
      "name": "python3",
      "display_name": "Python 3"
    },
    "language_info": {
      "name": "python"
    },
    "accelerator": "GPU"
  },
  "cells": [
    {
      "cell_type": "markdown",
      "metadata": {
        "id": "view-in-github",
        "colab_type": "text"
      },
      "source": [
        "<a href=\"https://colab.research.google.com/github/Irina-Bogdanova-bioinformatician/Bioinformatics_Workshop_BI_2022/blob/Ampicillin_resistance_research/Ampicillin_resistance_research/Ampicillin_resistance_research_Lab_Notebook.ipynb\" target=\"_parent\"><img src=\"https://colab.research.google.com/assets/colab-badge.svg\" alt=\"Open In Colab\"/></a>"
      ]
    },
    {
      "cell_type": "markdown",
      "source": [
        "# What causes ampicillin resistance? Lab Notebook\n",
        "\n",
        "This journal was kept during the implementation of a project dedicated to finding the cause of ampicillin resistance in E. coli\n"
      ],
      "metadata": {
        "id": "tRaQYd63Ju8G"
      }
    },
    {
      "cell_type": "markdown",
      "source": [
        "## Downloading data, manual inspecting"
      ],
      "metadata": {
        "id": "cVHcHhXsTbig"
      }
    },
    {
      "cell_type": "markdown",
      "source": [
        "**Get a reference sequence in fasta format (NC_000913.3 E. coli str. K-12 substr. MG1655, complete genome) and an annotation in .gff format**"
      ],
      "metadata": {
        "id": "AH-YJWn5LUUY"
      }
    },
    {
      "cell_type": "code",
      "execution_count": 1,
      "metadata": {
        "colab": {
          "base_uri": "https://localhost:8080/"
        },
        "id": "t80FoXGGJkRX",
        "outputId": "b3862ec4-3690-4fd2-fa35-607c36bb38dd"
      },
      "outputs": [
        {
          "output_type": "stream",
          "name": "stdout",
          "text": [
            "--2022-10-26 17:08:48--  https://ftp.ncbi.nlm.nih.gov/genomes/all/GCF/000/005/845/GCF_000005845.2_ASM584v2/GCF_000005845.2_ASM584v2_genomic.fna.gz\n",
            "Resolving ftp.ncbi.nlm.nih.gov (ftp.ncbi.nlm.nih.gov)... 165.112.9.229, 165.112.9.230, 2607:f220:41f:250::228, ...\n",
            "Connecting to ftp.ncbi.nlm.nih.gov (ftp.ncbi.nlm.nih.gov)|165.112.9.229|:443... connected.\n",
            "HTTP request sent, awaiting response... 200 OK\n",
            "Length: 1379902 (1.3M) [application/x-gzip]\n",
            "Saving to: ‘GCF_000005845.2_ASM584v2_genomic.fna.gz’\n",
            "\n",
            "GCF_000005845.2_ASM 100%[===================>]   1.32M  3.45MB/s    in 0.4s    \n",
            "\n",
            "2022-10-26 17:08:49 (3.45 MB/s) - ‘GCF_000005845.2_ASM584v2_genomic.fna.gz’ saved [1379902/1379902]\n",
            "\n",
            "--2022-10-26 17:08:49--  https://ftp.ncbi.nlm.nih.gov/genomes/all/GCF/000/005/845/GCF_000005845.2_ASM584v2/GCF_000005845.2_ASM584v2_genomic.gff.gz\n",
            "Resolving ftp.ncbi.nlm.nih.gov (ftp.ncbi.nlm.nih.gov)... 165.112.9.229, 165.112.9.230, 2607:f220:41f:250::228, ...\n",
            "Connecting to ftp.ncbi.nlm.nih.gov (ftp.ncbi.nlm.nih.gov)|165.112.9.229|:443... connected.\n",
            "HTTP request sent, awaiting response... 200 OK\n",
            "Length: 433547 (423K) [application/x-gzip]\n",
            "Saving to: ‘GCF_000005845.2_ASM584v2_genomic.gff.gz’\n",
            "\n",
            "GCF_000005845.2_ASM 100%[===================>] 423.39K  1.61MB/s    in 0.3s    \n",
            "\n",
            "2022-10-26 17:08:49 (1.61 MB/s) - ‘GCF_000005845.2_ASM584v2_genomic.gff.gz’ saved [433547/433547]\n",
            "\n"
          ]
        },
        {
          "output_type": "execute_result",
          "data": {
            "text/plain": []
          },
          "metadata": {},
          "execution_count": 1
        }
      ],
      "source": [
        "%%shell\n",
        "\n",
        "wget https://ftp.ncbi.nlm.nih.gov/genomes/all/GCF/000/005/845/GCF_000005845.2_ASM584v2/GCF_000005845.2_ASM584v2_genomic.fna.gz\n",
        "wget https://ftp.ncbi.nlm.nih.gov/genomes/all/GCF/000/005/845/GCF_000005845.2_ASM584v2/GCF_000005845.2_ASM584v2_genomic.gff.gz"
      ]
    },
    {
      "cell_type": "markdown",
      "source": [
        "**Get raw Illumina sequencing reads (paired) from shotgun sequencing of an E. coli strain that is resistant to the antibiotic ampicillin**\n",
        "\n",
        "\n"
      ],
      "metadata": {
        "id": "Fah6rcVMRQKo"
      }
    },
    {
      "cell_type": "code",
      "source": [
        "# %%shell\n",
        "# wget https://figshare.com/ndownloader/files/23769689\n",
        "# wget https://figshare.com/ndownloader/files/23769692\n",
        "\"\"\"\n",
        "Downloading files using this way resulted in getting corrupted files, so the files were downloaded via browser \n",
        "(https://figshare.com/articles/dataset/amp_res_2_fastq_zip/10006541/3)\n",
        "\"\"\"\n"
      ],
      "metadata": {
        "colab": {
          "base_uri": "https://localhost:8080/",
          "height": 53
        },
        "id": "S4MWTsR8RQzQ",
        "outputId": "b70671aa-9546-47ed-fdf9-c54bf390fefd"
      },
      "execution_count": 3,
      "outputs": [
        {
          "output_type": "execute_result",
          "data": {
            "text/plain": [
              "'\\nDownloading files using this way resulted in getting corrupted files, so the files were downloaded via browser \\n(https://figshare.com/articles/dataset/amp_res_2_fastq_zip/10006541/3)\\n'"
            ],
            "application/vnd.google.colaboratory.intrinsic+json": {
              "type": "string"
            }
          },
          "metadata": {},
          "execution_count": 3
        }
      ]
    },
    {
      "cell_type": "markdown",
      "source": [
        "**Inspect raw sequencing data manually**"
      ],
      "metadata": {
        "id": "ZqrcMci7SNOU"
      }
    },
    {
      "cell_type": "code",
      "source": [
        "!zcat amp_res_1.fastq.gz | head -20"
      ],
      "metadata": {
        "colab": {
          "base_uri": "https://localhost:8080/"
        },
        "id": "y8Rf1valSNoN",
        "outputId": "63fd118c-2138-484e-c80f-b162174f9504"
      },
      "execution_count": 4,
      "outputs": [
        {
          "output_type": "stream",
          "name": "stdout",
          "text": [
            "@SRR1363257.37 GWZHISEQ01:153:C1W31ACXX:5:1101:14027:2198 length=101\n",
            "GGTTGCAGATTCGCAGTGTCGCTGTTCCAGCGCATCACATCTTTGATGTTCACGCCGTGGCGTTTAGCAATGCTTGAAAGCGAATCGCCTTTGCCCACACG\n",
            "+\n",
            "@?:=:;DBFADH;CAECEE@@E:FFHGAE4?C?DE<BFGEC>?>FHE4BFFIIFHIBABEECA83;>>@>@CCCDC9@@CC08<@?@BB@9:CC#######\n",
            "@SRR1363257.46 GWZHISEQ01:153:C1W31ACXX:5:1101:19721:2155 length=101\n",
            "GTATGAGGTTTTGCTGCATTCTCTGNGCGAATATTAACTCCNTNNNNNTTATAGTTCAAAGCAAGTACCTGTCTCTTATACACATCTCCGAGCCCACGAGC\n",
            "+\n",
            "@@<?=D?D==?<AFGDF+AIHEACH#22<:?E8??:9??GG#0#####000;CF=C)4.==CA@@@)=7?C7?E37;3@>;;(.;>AB#############\n",
            "@SRR1363257.77 GWZHISEQ01:153:C1W31ACXX:5:1101:5069:2307 length=101\n",
            "GCTTCTCTTAACTGAGGTCACCATCATGCCGTTAAGTCCCTACCTCTCTTTTGCCGGTAACTGTTCCGCCGCGATTGCCTTTTATCTGTCTCTTATACACC\n",
            "+\n",
            "??<DBD;4C2=<BB>:AC;<CF<CE@FE9@E1C@891CD*9:?:3D@DD4?D<DD:0;@A=AEIDDA##################################\n",
            "@SRR1363257.78 GWZHISEQ01:153:C1W31ACXX:5:1101:5178:2440 length=101\n",
            "GCATAAGGACGATCGCTCCAGAGTAAAATAAATACGCGCATGTGATACTCACAATACCAATGGTGAAGTTACGGGACTTAAACAAACTGAGATCAAGAATC\n",
            "+\n",
            "CCCFFFFFHHHHHJJJJJJJJJJFFHIJJJJJJJJJJJJJJJJJJJJJJJIJHHHHHHFDEDF;AEEEEEEDDDDDBBACDDDCDDDDCCDDDDDDCCDC3\n",
            "@SRR1363257.96 GWZHISEQ01:153:C1W31ACXX:5:1101:6707:2460 length=101\n",
            "TCATTAAGCCGTGGTGGATGTGCCATAGCGCACCGCAAAGTTAAGAAACCGAATATTGGGTTTAGTCTTGTTTCATAATTGTTGCAATGAAACGCGGTGAA\n",
            "+\n",
            "CCCFFFFFHHHHHJHIIJIIIIJJJJJJGIJJJJJIJJIIGHJJJJJIIJJDHFFFFFEDACDDDCDDDDCCDDECACCDCCCDACDDDDCCDDDDDBD@A\n"
          ]
        }
      ]
    },
    {
      "cell_type": "code",
      "source": [
        "!zcat amp_res_2.fastq.gz | head -20"
      ],
      "metadata": {
        "colab": {
          "base_uri": "https://localhost:8080/"
        },
        "id": "BsNoRZixSdH3",
        "outputId": "f92dcd6e-3fb1-4d70-d94e-77ca3ef47829"
      },
      "execution_count": 5,
      "outputs": [
        {
          "output_type": "stream",
          "name": "stdout",
          "text": [
            "@SRR1363257.37 GWZHISEQ01:153:C1W31ACXX:5:1101:14027:2198 length=101\n",
            "GATCTAAGCTGAAGCCAGGCCAAAGTTTGACGATTGGTGCAGGCAGTAGCGCACAGCGACTGGCAAACAACAGCGATAGCATTACGTATCGTGTGCGCAAA\n",
            "+\n",
            "???BDB:DFHBFD@9;;+A;AFGH;ABHFHHGE@9:B:??@D>@;F?D8<<F8AA9EHHD8'..;5?A?A992(',(59CC3@C>22::A238+2>B<>B<\n",
            "@SRR1363257.46 GWZHISEQ01:153:C1W31ACXX:5:1101:19721:2155 length=101\n",
            "GTACTTGCTTTGNACTATAATATGCACGGAGNTAATATTCGCTCAGAGAATGCAGCAAAACCTCATACCTGTCTCTTATACACATCTGACGCTGCCGACGA\n",
            "+\n",
            ";@@DB?B;CFBB#2<:CB:FH<C@:<A?C::#1:86:BG9:8?8688?888EBF;783)=6-7=CC;ECD);?7;;>>AE;>(5;->AC@;B@;8?#####\n",
            "@SRR1363257.77 GWZHISEQ01:153:C1W31ACXX:5:1101:5069:2307 length=101\n",
            "ATAATAGGCAATCGCGTCGGAACAGTTACCGGCCAAAGAGAGGCAGGGACTTAACGGCATGATGGTGACCTCAGTTAAGAGAAGCCTGTCTCTTATACACA\n",
            "+\n",
            "+=?;:2,+A++AC:C:2@F6:CD:B09B?4)8@''8=))8=;=((5=4@?;@6;@?@BB;(535::>:>3(::(44:@::@3((9<32+::@(4@4+:>C3\n",
            "@SRR1363257.78 GWZHISEQ01:153:C1W31ACXX:5:1101:5178:2440 length=101\n",
            "ATATTAACAGTAGTATCAGTTATTTCTCTGATCTCTTTAGTCATTTGGGAGTCGACCTCAGAGAACCCGATTCTTGATCTCAGTTTGTTTAAGTCCCGTAA\n",
            "+\n",
            "BCCFFFFFHHHHHHIJJIJJJJJIJJJJIJGIJJJJJJIJHIHJJIJIIGGGHIJIJJJIJIJJJJJJJGHHHHHFFFFFFEEEFEEED?AACCDCCDDDB\n",
            "@SRR1363257.96 GWZHISEQ01:153:C1W31ACXX:5:1101:6707:2460 length=101\n",
            "GTTTCACCGCGTTTCATTGCAACAATTATGAAACAAGACTAAACCCAATATTCGGTTTCTTAACTTTGCGGTGCGCTATGGCACATCCACCACGGCTTAAT\n",
            "+\n",
            "CCCFFFFFHGHHHJIJJJJJJIJJJJJJIJIJJIJJIJIJJJJJJJJIJJFHIIJFIGJJJGIHHHHHGFFDDDDDDDDDDDDDDDDDDDABDDDDDDDCD\n"
          ]
        }
      ]
    },
    {
      "cell_type": "markdown",
      "source": [
        "**Inspect reference FASTA file manually**"
      ],
      "metadata": {
        "id": "OkJU18wPSlML"
      }
    },
    {
      "cell_type": "code",
      "source": [
        "!zcat GCF_000005845.2_ASM584v2_genomic.fna.gz | head -20"
      ],
      "metadata": {
        "colab": {
          "base_uri": "https://localhost:8080/"
        },
        "id": "XqPRJ-IFSsrB",
        "outputId": "9b34c980-0738-4bb2-fb94-1b481bc75c81"
      },
      "execution_count": 6,
      "outputs": [
        {
          "output_type": "stream",
          "name": "stdout",
          "text": [
            ">NC_000913.3 Escherichia coli str. K-12 substr. MG1655, complete genome\n",
            "AGCTTTTCATTCTGACTGCAACGGGCAATATGTCTCTGTGTGGATTAAAAAAAGAGTGTCTGATAGCAGCTTCTGAACTG\n",
            "GTTACCTGCCGTGAGTAAATTAAAATTTTATTGACTTAGGTCACTAAATACTTTAACCAATATAGGCATAGCGCACAGAC\n",
            "AGATAAAAATTACAGAGTACACAACATCCATGAAACGCATTAGCACCACCATTACCACCACCATCACCATTACCACAGGT\n",
            "AACGGTGCGGGCTGACGCGTACAGGAAACACAGAAAAAAGCCCGCACCTGACAGTGCGGGCTTTTTTTTTCGACCAAAGG\n",
            "TAACGAGGTAACAACCATGCGAGTGTTGAAGTTCGGCGGTACATCAGTGGCAAATGCAGAACGTTTTCTGCGTGTTGCCG\n",
            "ATATTCTGGAAAGCAATGCCAGGCAGGGGCAGGTGGCCACCGTCCTCTCTGCCCCCGCCAAAATCACCAACCACCTGGTG\n",
            "GCGATGATTGAAAAAACCATTAGCGGCCAGGATGCTTTACCCAATATCAGCGATGCCGAACGTATTTTTGCCGAACTTTT\n",
            "GACGGGACTCGCCGCCGCCCAGCCGGGGTTCCCGCTGGCGCAATTGAAAACTTTCGTCGATCAGGAATTTGCCCAAATAA\n",
            "AACATGTCCTGCATGGCATTAGTTTGTTGGGGCAGTGCCCGGATAGCATCAACGCTGCGCTGATTTGCCGTGGCGAGAAA\n",
            "ATGTCGATCGCCATTATGGCCGGCGTATTAGAAGCGCGCGGTCACAACGTTACTGTTATCGATCCGGTCGAAAAACTGCT\n",
            "GGCAGTGGGGCATTACCTCGAATCTACCGTCGATATTGCTGAGTCCACCCGCCGTATTGCGGCAAGCCGCATTCCGGCTG\n",
            "ATCACATGGTGCTGATGGCAGGTTTCACCGCCGGTAATGAAAAAGGCGAACTGGTGGTGCTTGGACGCAACGGTTCCGAC\n",
            "TACTCTGCTGCGGTGCTGGCTGCCTGTTTACGCGCCGATTGTTGCGAGATTTGGACGGACGTTGACGGGGTCTATACCTG\n",
            "CGACCCGCGTCAGGTGCCCGATGCGAGGTTGTTGAAGTCGATGTCCTACCAGGAAGCGATGGAGCTTTCCTACTTCGGCG\n",
            "CTAAAGTTCTTCACCCCCGCACCATTACCCCCATCGCCCAGTTCCAGATCCCTTGCCTGATTAAAAATACCGGAAATCCT\n",
            "CAAGCACCAGGTACGCTCATTGGTGCCAGCCGTGATGAAGACGAATTACCGGTCAAGGGCATTTCCAATCTGAATAACAT\n",
            "GGCAATGTTCAGCGTTTCTGGTCCGGGGATGAAAGGGATGGTCGGCATGGCGGCGCGCGTCTTTGCAGCGATGTCACGCG\n",
            "CCCGTATTTCCGTGGTGCTGATTACGCAATCATCTTCCGAATACAGCATCAGTTTCTGCGTTCCACAAAGCGACTGTGTG\n",
            "CGAGCTGAACGGGCAATGCAGGAAGAGTTCTACCTGGAACTGAAAGAAGGCTTACTGGAGCCGCTGGCAGTGACGGAACG\n"
          ]
        }
      ]
    },
    {
      "cell_type": "markdown",
      "source": [
        "**Count reads in one fastq file**"
      ],
      "metadata": {
        "id": "yeELE1LkSyAm"
      }
    },
    {
      "cell_type": "code",
      "source": [
        "!echo \"initial_read_number_in_one_file=$(($(zcat amp_res_1.fastq.gz | wc -l)/4))\""
      ],
      "metadata": {
        "colab": {
          "base_uri": "https://localhost:8080/"
        },
        "id": "UTDyc2W_S9vk",
        "outputId": "06740407-1ab2-4727-ed88-f66ae688eeca"
      },
      "execution_count": 8,
      "outputs": [
        {
          "output_type": "stream",
          "name": "stdout",
          "text": [
            "initial_read_number_in_one_file=455876\n"
          ]
        }
      ]
    },
    {
      "cell_type": "markdown",
      "source": [
        "## Inspect raw sequencing data with fastqc"
      ],
      "metadata": {
        "id": "mQdq4TCxUAAA"
      }
    },
    {
      "cell_type": "markdown",
      "source": [
        "**Install fastqc if it was not installed previously**"
      ],
      "metadata": {
        "id": "yt7NMwu2UGkl"
      }
    },
    {
      "cell_type": "code",
      "source": [
        "!sudo apt-get install fastqc"
      ],
      "metadata": {
        "colab": {
          "base_uri": "https://localhost:8080/"
        },
        "id": "oj87YB0oUODM",
        "outputId": "11fe047f-8acf-4613-e826-10e47c34726d"
      },
      "execution_count": 10,
      "outputs": [
        {
          "output_type": "stream",
          "name": "stdout",
          "text": [
            "Reading package lists... Done\n",
            "Building dependency tree       \n",
            "Reading state information... Done\n",
            "The following package was automatically installed and is no longer required:\n",
            "  libnvidia-common-460\n",
            "Use 'sudo apt autoremove' to remove it.\n",
            "The following additional packages will be installed:\n",
            "  libapache-pom-java libcommons-compress-java libcommons-jexl2-java\n",
            "  libcommons-logging-java libcommons-math3-java libcommons-parent-java\n",
            "  libhtsjdk-java libjbzip2-java libngs-java libngs-sdk-dev libngs-sdk1\n",
            "  libsnappy-java libsnappy-jni libxz-java\n",
            "Suggested packages:\n",
            "  libcommons-jexl2-java-doc libavalon-framework-java\n",
            "  libcommons-logging-java-doc libexcalibur-logkit-java liblog4j1.2-java\n",
            "  picard-tools\n",
            "The following NEW packages will be installed:\n",
            "  fastqc libapache-pom-java libcommons-compress-java libcommons-jexl2-java\n",
            "  libcommons-logging-java libcommons-math3-java libcommons-parent-java\n",
            "  libhtsjdk-java libjbzip2-java libngs-java libngs-sdk-dev libngs-sdk1\n",
            "  libsnappy-java libsnappy-jni libxz-java\n",
            "0 upgraded, 15 newly installed, 0 to remove and 27 not upgraded.\n",
            "Need to get 5,140 kB of archives.\n",
            "After this operation, 8,129 kB of additional disk space will be used.\n",
            "Get:1 http://archive.ubuntu.com/ubuntu bionic/universe amd64 libcommons-math3-java all 3.6.1-3 [2,016 kB]\n",
            "Get:2 http://archive.ubuntu.com/ubuntu bionic/universe amd64 libjbzip2-java all 0.9.1-4 [42.6 kB]\n",
            "Get:3 http://archive.ubuntu.com/ubuntu bionic/universe amd64 libapache-pom-java all 18-1 [4,720 B]\n",
            "Get:4 http://archive.ubuntu.com/ubuntu bionic/universe amd64 libcommons-parent-java all 43-1 [10.8 kB]\n",
            "Get:5 http://archive.ubuntu.com/ubuntu bionic-updates/universe amd64 libcommons-compress-java all 1.18-1~18.04 [531 kB]\n",
            "Get:6 http://archive.ubuntu.com/ubuntu bionic/universe amd64 libcommons-logging-java all 1.2-2 [60.3 kB]\n",
            "Get:7 http://archive.ubuntu.com/ubuntu bionic/universe amd64 libcommons-jexl2-java all 2.1.1-4 [252 kB]\n",
            "Get:8 http://archive.ubuntu.com/ubuntu bionic/universe amd64 libngs-sdk1 amd64 1.3.0-3 [52.3 kB]\n",
            "Get:9 http://archive.ubuntu.com/ubuntu bionic/universe amd64 libngs-sdk-dev amd64 1.3.0-3 [92.8 kB]\n",
            "Get:10 http://archive.ubuntu.com/ubuntu bionic/universe amd64 libngs-java amd64 1.3.0-3 [76.4 kB]\n",
            "Get:11 http://archive.ubuntu.com/ubuntu bionic/universe amd64 libsnappy-jni amd64 1.1.4-1 [6,996 B]\n",
            "Get:12 http://archive.ubuntu.com/ubuntu bionic/universe amd64 libsnappy-java all 1.1.4-1 [67.2 kB]\n",
            "Get:13 http://archive.ubuntu.com/ubuntu bionic/universe amd64 libxz-java all 1.8-1 [134 kB]\n",
            "Get:14 http://archive.ubuntu.com/ubuntu bionic/universe amd64 libhtsjdk-java all 2.8.1+dfsg-2 [1,438 kB]\n",
            "Get:15 http://archive.ubuntu.com/ubuntu bionic/universe amd64 fastqc all 0.11.5+dfsg-6 [354 kB]\n",
            "Fetched 5,140 kB in 2s (2,874 kB/s)\n",
            "debconf: unable to initialize frontend: Dialog\n",
            "debconf: (No usable dialog-like program is installed, so the dialog based frontend cannot be used. at /usr/share/perl5/Debconf/FrontEnd/Dialog.pm line 76, <> line 15.)\n",
            "debconf: falling back to frontend: Readline\n",
            "debconf: unable to initialize frontend: Readline\n",
            "debconf: (This frontend requires a controlling tty.)\n",
            "debconf: falling back to frontend: Teletype\n",
            "dpkg-preconfigure: unable to re-open stdin: \n",
            "Selecting previously unselected package libcommons-math3-java.\n",
            "(Reading database ... 123942 files and directories currently installed.)\n",
            "Preparing to unpack .../00-libcommons-math3-java_3.6.1-3_all.deb ...\n",
            "Unpacking libcommons-math3-java (3.6.1-3) ...\n",
            "Selecting previously unselected package libjbzip2-java.\n",
            "Preparing to unpack .../01-libjbzip2-java_0.9.1-4_all.deb ...\n",
            "Unpacking libjbzip2-java (0.9.1-4) ...\n",
            "Selecting previously unselected package libapache-pom-java.\n",
            "Preparing to unpack .../02-libapache-pom-java_18-1_all.deb ...\n",
            "Unpacking libapache-pom-java (18-1) ...\n",
            "Selecting previously unselected package libcommons-parent-java.\n",
            "Preparing to unpack .../03-libcommons-parent-java_43-1_all.deb ...\n",
            "Unpacking libcommons-parent-java (43-1) ...\n",
            "Selecting previously unselected package libcommons-compress-java.\n",
            "Preparing to unpack .../04-libcommons-compress-java_1.18-1~18.04_all.deb ...\n",
            "Unpacking libcommons-compress-java (1.18-1~18.04) ...\n",
            "Selecting previously unselected package libcommons-logging-java.\n",
            "Preparing to unpack .../05-libcommons-logging-java_1.2-2_all.deb ...\n",
            "Unpacking libcommons-logging-java (1.2-2) ...\n",
            "Selecting previously unselected package libcommons-jexl2-java.\n",
            "Preparing to unpack .../06-libcommons-jexl2-java_2.1.1-4_all.deb ...\n",
            "Unpacking libcommons-jexl2-java (2.1.1-4) ...\n",
            "Selecting previously unselected package libngs-sdk1.\n",
            "Preparing to unpack .../07-libngs-sdk1_1.3.0-3_amd64.deb ...\n",
            "Unpacking libngs-sdk1 (1.3.0-3) ...\n",
            "Selecting previously unselected package libngs-sdk-dev.\n",
            "Preparing to unpack .../08-libngs-sdk-dev_1.3.0-3_amd64.deb ...\n",
            "Unpacking libngs-sdk-dev (1.3.0-3) ...\n",
            "Selecting previously unselected package libngs-java.\n",
            "Preparing to unpack .../09-libngs-java_1.3.0-3_amd64.deb ...\n",
            "Unpacking libngs-java (1.3.0-3) ...\n",
            "Selecting previously unselected package libsnappy-jni.\n",
            "Preparing to unpack .../10-libsnappy-jni_1.1.4-1_amd64.deb ...\n",
            "Unpacking libsnappy-jni (1.1.4-1) ...\n",
            "Selecting previously unselected package libsnappy-java.\n",
            "Preparing to unpack .../11-libsnappy-java_1.1.4-1_all.deb ...\n",
            "Unpacking libsnappy-java (1.1.4-1) ...\n",
            "Selecting previously unselected package libxz-java.\n",
            "Preparing to unpack .../12-libxz-java_1.8-1_all.deb ...\n",
            "Unpacking libxz-java (1.8-1) ...\n",
            "Selecting previously unselected package libhtsjdk-java.\n",
            "Preparing to unpack .../13-libhtsjdk-java_2.8.1+dfsg-2_all.deb ...\n",
            "Unpacking libhtsjdk-java (2.8.1+dfsg-2) ...\n",
            "Selecting previously unselected package fastqc.\n",
            "Preparing to unpack .../14-fastqc_0.11.5+dfsg-6_all.deb ...\n",
            "Unpacking fastqc (0.11.5+dfsg-6) ...\n",
            "Setting up libsnappy-jni (1.1.4-1) ...\n",
            "Setting up libcommons-math3-java (3.6.1-3) ...\n",
            "Setting up libjbzip2-java (0.9.1-4) ...\n",
            "Setting up libngs-sdk1 (1.3.0-3) ...\n",
            "Setting up libngs-sdk-dev (1.3.0-3) ...\n",
            "Setting up libxz-java (1.8-1) ...\n",
            "Setting up libsnappy-java (1.1.4-1) ...\n",
            "Setting up libapache-pom-java (18-1) ...\n",
            "Setting up libngs-java (1.3.0-3) ...\n",
            "Setting up libcommons-parent-java (43-1) ...\n",
            "Setting up libcommons-compress-java (1.18-1~18.04) ...\n",
            "Setting up libcommons-logging-java (1.2-2) ...\n",
            "Setting up libcommons-jexl2-java (2.1.1-4) ...\n",
            "Setting up libhtsjdk-java (2.8.1+dfsg-2) ...\n",
            "Setting up fastqc (0.11.5+dfsg-6) ...\n",
            "Processing triggers for man-db (2.8.3-2ubuntu0.1) ...\n",
            "Processing triggers for hicolor-icon-theme (0.17-2) ...\n",
            "Processing triggers for mime-support (3.60ubuntu1) ...\n",
            "Processing triggers for libc-bin (2.27-3ubuntu1.6) ...\n"
          ]
        }
      ]
    },
    {
      "cell_type": "markdown",
      "source": [
        "**Check if fastqc was installed correctly**"
      ],
      "metadata": {
        "id": "FyBP7mB3UVfc"
      }
    },
    {
      "cell_type": "code",
      "source": [
        "!fastqc -h"
      ],
      "metadata": {
        "colab": {
          "base_uri": "https://localhost:8080/"
        },
        "id": "wtGWYQlqUg4c",
        "outputId": "7a16cbbe-98d5-4cbe-e42f-6ab94afa01fc"
      },
      "execution_count": 11,
      "outputs": [
        {
          "output_type": "stream",
          "name": "stdout",
          "text": [
            "\n",
            "            FastQC - A high throughput sequence QC analysis tool\n",
            "\n",
            "SYNOPSIS\n",
            "\n",
            "\tfastqc seqfile1 seqfile2 .. seqfileN\n",
            "\n",
            "    fastqc [-o output dir] [--(no)extract] [-f fastq|bam|sam] \n",
            "           [-c contaminant file] seqfile1 .. seqfileN\n",
            "\n",
            "DESCRIPTION\n",
            "\n",
            "    FastQC reads a set of sequence files and produces from each one a quality\n",
            "    control report consisting of a number of different modules, each one of \n",
            "    which will help to identify a different potential type of problem in your\n",
            "    data.\n",
            "    \n",
            "    If no files to process are specified on the command line then the program\n",
            "    will start as an interactive graphical application.  If files are provided\n",
            "    on the command line then the program will run with no user interaction\n",
            "    required.  In this mode it is suitable for inclusion into a standardised\n",
            "    analysis pipeline.\n",
            "    \n",
            "    The options for the program as as follows:\n",
            "    \n",
            "    -h --help       Print this help file and exit\n",
            "    \n",
            "    -v --version    Print the version of the program and exit\n",
            "    \n",
            "    -o --outdir     Create all output files in the specified output directory.\n",
            "                    Please note that this directory must exist as the program\n",
            "                    will not create it.  If this option is not set then the \n",
            "                    output file for each sequence file is created in the same\n",
            "                    directory as the sequence file which was processed.\n",
            "                    \n",
            "    --casava        Files come from raw casava output. Files in the same sample\n",
            "                    group (differing only by the group number) will be analysed\n",
            "                    as a set rather than individually. Sequences with the filter\n",
            "                    flag set in the header will be excluded from the analysis.\n",
            "                    Files must have the same names given to them by casava\n",
            "                    (including being gzipped and ending with .gz) otherwise they\n",
            "                    won't be grouped together correctly.\n",
            "                    \n",
            "    --nofilter      If running with --casava then don't remove read flagged by\n",
            "                    casava as poor quality when performing the QC analysis.\n",
            "                   \n",
            "    --extract       If set then the zipped output file will be uncompressed in\n",
            "                    the same directory after it has been created.  By default\n",
            "                    this option will be set if fastqc is run in non-interactive\n",
            "                    mode.\n",
            "                    \n",
            "    -j --java       Provides the full path to the java binary you want to use to\n",
            "                    launch fastqc. If not supplied then java is assumed to be in\n",
            "                    your path.\n",
            "                   \n",
            "    --noextract     Do not uncompress the output file after creating it.  You\n",
            "                    should set this option if you do not wish to uncompress\n",
            "                    the output when running in non-interactive mode.\n",
            "                    \n",
            "    --nogroup       Disable grouping of bases for reads >50bp. All reports will\n",
            "                    show data for every base in the read.  WARNING: Using this\n",
            "                    option will cause fastqc to crash and burn if you use it on\n",
            "                    really long reads, and your plots may end up a ridiculous size.\n",
            "                    You have been warned!\n",
            "                    \n",
            "    -f --format     Bypasses the normal sequence file format detection and\n",
            "                    forces the program to use the specified format.  Valid\n",
            "                    formats are bam,sam,bam_mapped,sam_mapped and fastq\n",
            "                    \n",
            "    -t --threads    Specifies the number of files which can be processed\n",
            "                    simultaneously.  Each thread will be allocated 250MB of\n",
            "                    memory so you shouldn't run more threads than your\n",
            "                    available memory will cope with, and not more than\n",
            "                    6 threads on a 32 bit machine\n",
            "                  \n",
            "    -c              Specifies a non-default file which contains the list of\n",
            "    --contaminants  contaminants to screen overrepresented sequences against.\n",
            "                    The file must contain sets of named contaminants in the\n",
            "                    form name[tab]sequence.  Lines prefixed with a hash will\n",
            "                    be ignored.\n",
            "\n",
            "    -a              Specifies a non-default file which contains the list of\n",
            "    --adapters      adapter sequences which will be explicity searched against\n",
            "                    the library. The file must contain sets of named adapters\n",
            "                    in the form name[tab]sequence.  Lines prefixed with a hash\n",
            "                    will be ignored.\n",
            "                    \n",
            "    -l              Specifies a non-default file which contains a set of criteria\n",
            "    --limits        which will be used to determine the warn/error limits for the\n",
            "                    various modules.  This file can also be used to selectively \n",
            "                    remove some modules from the output all together.  The format\n",
            "                    needs to mirror the default limits.txt file found in the\n",
            "                    Configuration folder.\n",
            "                    \n",
            "   -k --kmers       Specifies the length of Kmer to look for in the Kmer content\n",
            "                    module. Specified Kmer length must be between 2 and 10. Default\n",
            "                    length is 7 if not specified.\n",
            "                    \n",
            "   -q --quiet       Supress all progress messages on stdout and only report errors.\n",
            "   \n",
            "   -d --dir         Selects a directory to be used for temporary files written when\n",
            "                    generating report images. Defaults to system temp directory if\n",
            "                    not specified.\n",
            "                    \n",
            "BUGS\n",
            "\n",
            "    Any bugs in fastqc should be reported either to simon.andrews@babraham.ac.uk\n",
            "    or in www.bioinformatics.babraham.ac.uk/bugzilla/\n",
            "                   \n"
          ]
        }
      ]
    },
    {
      "cell_type": "markdown",
      "source": [
        "**Run fastqc**"
      ],
      "metadata": {
        "id": "q04rPRu-UuhD"
      }
    },
    {
      "cell_type": "code",
      "source": [
        "!fastqc -o . amp_res_1.fastq.gz amp_res_2.fastq.gz\n"
      ],
      "metadata": {
        "colab": {
          "base_uri": "https://localhost:8080/"
        },
        "id": "1lgJJbTdU7c1",
        "outputId": "74cc65dc-5332-438d-8328-e20af29c0166"
      },
      "execution_count": 13,
      "outputs": [
        {
          "output_type": "stream",
          "name": "stdout",
          "text": [
            "Started analysis of amp_res_1.fastq.gz\n",
            "Approx 5% complete for amp_res_1.fastq.gz\n",
            "Approx 10% complete for amp_res_1.fastq.gz\n",
            "Approx 15% complete for amp_res_1.fastq.gz\n",
            "Approx 20% complete for amp_res_1.fastq.gz\n",
            "Approx 25% complete for amp_res_1.fastq.gz\n",
            "Approx 30% complete for amp_res_1.fastq.gz\n",
            "Approx 35% complete for amp_res_1.fastq.gz\n",
            "Approx 40% complete for amp_res_1.fastq.gz\n",
            "Approx 45% complete for amp_res_1.fastq.gz\n",
            "Approx 50% complete for amp_res_1.fastq.gz\n",
            "Approx 55% complete for amp_res_1.fastq.gz\n",
            "Approx 60% complete for amp_res_1.fastq.gz\n",
            "Approx 65% complete for amp_res_1.fastq.gz\n",
            "Approx 70% complete for amp_res_1.fastq.gz\n",
            "Approx 75% complete for amp_res_1.fastq.gz\n",
            "Approx 80% complete for amp_res_1.fastq.gz\n",
            "Approx 85% complete for amp_res_1.fastq.gz\n",
            "Approx 90% complete for amp_res_1.fastq.gz\n",
            "Approx 95% complete for amp_res_1.fastq.gz\n",
            "Analysis complete for amp_res_1.fastq.gz\n",
            "Started analysis of amp_res_2.fastq.gz\n",
            "Approx 5% complete for amp_res_2.fastq.gz\n",
            "Approx 10% complete for amp_res_2.fastq.gz\n",
            "Approx 15% complete for amp_res_2.fastq.gz\n",
            "Approx 20% complete for amp_res_2.fastq.gz\n",
            "Approx 25% complete for amp_res_2.fastq.gz\n",
            "Approx 30% complete for amp_res_2.fastq.gz\n",
            "Approx 35% complete for amp_res_2.fastq.gz\n",
            "Approx 40% complete for amp_res_2.fastq.gz\n",
            "Approx 45% complete for amp_res_2.fastq.gz\n",
            "Approx 50% complete for amp_res_2.fastq.gz\n",
            "Approx 55% complete for amp_res_2.fastq.gz\n",
            "Approx 60% complete for amp_res_2.fastq.gz\n",
            "Approx 65% complete for amp_res_2.fastq.gz\n",
            "Approx 70% complete for amp_res_2.fastq.gz\n",
            "Approx 75% complete for amp_res_2.fastq.gz\n",
            "Approx 80% complete for amp_res_2.fastq.gz\n",
            "Approx 85% complete for amp_res_2.fastq.gz\n",
            "Approx 90% complete for amp_res_2.fastq.gz\n",
            "Approx 95% complete for amp_res_2.fastq.gz\n",
            "Analysis complete for amp_res_2.fastq.gz\n"
          ]
        }
      ]
    },
    {
      "cell_type": "markdown",
      "source": [
        "**Check out html files with reads quality assesment**\n",
        "\n",
        "The number of reads in the basic statistics match what we calculated earlier (455876).\n",
        "\n",
        "We can see unusual result in \"Per base sequence quality\" and \"Per tile sequence quality\" for amp_res_1.fastq.gz \n",
        "and one unusual result for amp_res_2.fastq.gz (\"Per base sequence quality\").\n",
        "\n",
        "\"Per base sequence quality\" module raises a failure if the lower quartile for any base is less than 5 or if the median for any base is less than 20.\n",
        "\"Per tile sequence quality\" raises a failure if there are significant transient problems such as bubbles going through the flowcell, or permanent problems such as smudges on the flowcell or debris inside the flowcell lane.\n",
        "This module will issue a warning if any tile shows a mean Phred score more than 2 less than the mean for that base across all tiles."
      ],
      "metadata": {
        "id": "_BflX8vfVsXg"
      }
    },
    {
      "cell_type": "markdown",
      "source": [
        "## Filtering the reads"
      ],
      "metadata": {
        "id": "44OApUlfX7y7"
      }
    },
    {
      "cell_type": "markdown",
      "source": [
        "**Install trimmomatic**"
      ],
      "metadata": {
        "id": "Q3JOzxrzYeNs"
      }
    },
    {
      "cell_type": "code",
      "source": [
        "!sudo apt-get install trimmomatic"
      ],
      "metadata": {
        "colab": {
          "base_uri": "https://localhost:8080/"
        },
        "id": "fyvzrxKYYh2D",
        "outputId": "153dde5e-7097-43ed-ce50-df0da7611930"
      },
      "execution_count": 14,
      "outputs": [
        {
          "output_type": "stream",
          "name": "stdout",
          "text": [
            "Reading package lists... Done\n",
            "Building dependency tree       \n",
            "Reading state information... Done\n",
            "The following package was automatically installed and is no longer required:\n",
            "  libnvidia-common-460\n",
            "Use 'sudo apt autoremove' to remove it.\n",
            "The following NEW packages will be installed:\n",
            "  trimmomatic\n",
            "0 upgraded, 1 newly installed, 0 to remove and 27 not upgraded.\n",
            "Need to get 749 kB of archives.\n",
            "After this operation, 795 kB of additional disk space will be used.\n",
            "Get:1 http://archive.ubuntu.com/ubuntu bionic/universe amd64 trimmomatic all 0.36+dfsg-3 [749 kB]\n",
            "Fetched 749 kB in 1s (1,256 kB/s)\n",
            "debconf: unable to initialize frontend: Dialog\n",
            "debconf: (No usable dialog-like program is installed, so the dialog based frontend cannot be used. at /usr/share/perl5/Debconf/FrontEnd/Dialog.pm line 76, <> line 1.)\n",
            "debconf: falling back to frontend: Readline\n",
            "debconf: unable to initialize frontend: Readline\n",
            "debconf: (This frontend requires a controlling tty.)\n",
            "debconf: falling back to frontend: Teletype\n",
            "dpkg-preconfigure: unable to re-open stdin: \n",
            "Selecting previously unselected package trimmomatic.\n",
            "(Reading database ... 124284 files and directories currently installed.)\n",
            "Preparing to unpack .../trimmomatic_0.36+dfsg-3_all.deb ...\n",
            "Unpacking trimmomatic (0.36+dfsg-3) ...\n",
            "Setting up trimmomatic (0.36+dfsg-3) ...\n",
            "Processing triggers for man-db (2.8.3-2ubuntu0.1) ...\n"
          ]
        }
      ]
    },
    {
      "cell_type": "markdown",
      "source": [
        "**Run Trimmomatic in paired end mode, with following parameters:**\\\n",
        "Cut bases off the start of a read if quality below 20.\\\n",
        "Cut bases off the end of a read if quality below 20.\\\n",
        "Trim reads using a sliding window approach, with window size 10 and average quality within the window 20.\\\n",
        "Drop the read if it is below length 20."
      ],
      "metadata": {
        "id": "0fm0kWzNYmPH"
      }
    },
    {
      "cell_type": "code",
      "source": [
        "!TrimmomaticPE -phred33 amp_res_1.fastq.gz amp_res_2.fastq.gz -baseout amp_res.fq.gz LEADING:20 TRAILING:20 SLIDINGWINDOW:10:20 MINLEN:20\n"
      ],
      "metadata": {
        "colab": {
          "base_uri": "https://localhost:8080/"
        },
        "id": "vLeVZ_CqY1um",
        "outputId": "1cf38608-3480-48bd-d7f8-3dce61ad4a49"
      },
      "execution_count": 15,
      "outputs": [
        {
          "output_type": "stream",
          "name": "stdout",
          "text": [
            "TrimmomaticPE: Started with arguments:\n",
            " -phred33 amp_res_1.fastq.gz amp_res_2.fastq.gz -baseout amp_res.fq.gz LEADING:20 TRAILING:20 SLIDINGWINDOW:10:20 MINLEN:20\n",
            "Multiple cores found: Using 2 threads\n",
            "Using templated Output files: amp_res_1P.fq.gz amp_res_1U.fq.gz amp_res_2P.fq.gz amp_res_2U.fq.gz\n",
            "Input Read Pairs: 455876 Both Surviving: 446259 (97.89%) Forward Only Surviving: 9216 (2.02%) Reverse Only Surviving: 273 (0.06%) Dropped: 128 (0.03%)\n",
            "TrimmomaticPE: Completed successfully\n"
          ]
        }
      ]
    },
    {
      "cell_type": "markdown",
      "source": [
        "**Count Both Survived manually**"
      ],
      "metadata": {
        "id": "pWO93vw0ZNFh"
      }
    },
    {
      "cell_type": "code",
      "source": [
        "!echo \"both_survived=$(($(zcat amp_res_1P.fq.gz | wc -l)/4))\""
      ],
      "metadata": {
        "colab": {
          "base_uri": "https://localhost:8080/"
        },
        "id": "aisdNyT6ZYp0",
        "outputId": "9a506f4b-a64e-40e5-80b1-cb8b68c167ba"
      },
      "execution_count": 16,
      "outputs": [
        {
          "output_type": "stream",
          "name": "stdout",
          "text": [
            "both_survived=446259\n"
          ]
        }
      ]
    },
    {
      "cell_type": "markdown",
      "source": [
        "**Run fastqc on trimmed fastq files**"
      ],
      "metadata": {
        "id": "RCtGEMqXZgMS"
      }
    },
    {
      "cell_type": "code",
      "source": [
        "!fastqc -o . amp_res_1P.fq.gz amp_res_2P.fq.gz\n"
      ],
      "metadata": {
        "colab": {
          "base_uri": "https://localhost:8080/"
        },
        "id": "TWkPxsqbZgfC",
        "outputId": "7d63700f-3dcf-4bc0-f4ec-59eb3177ce3c"
      },
      "execution_count": 17,
      "outputs": [
        {
          "output_type": "stream",
          "name": "stdout",
          "text": [
            "Started analysis of amp_res_1P.fq.gz\n",
            "Approx 5% complete for amp_res_1P.fq.gz\n",
            "Approx 10% complete for amp_res_1P.fq.gz\n",
            "Approx 15% complete for amp_res_1P.fq.gz\n",
            "Approx 20% complete for amp_res_1P.fq.gz\n",
            "Approx 25% complete for amp_res_1P.fq.gz\n",
            "Approx 30% complete for amp_res_1P.fq.gz\n",
            "Approx 35% complete for amp_res_1P.fq.gz\n",
            "Approx 40% complete for amp_res_1P.fq.gz\n",
            "Approx 45% complete for amp_res_1P.fq.gz\n",
            "Approx 50% complete for amp_res_1P.fq.gz\n",
            "Approx 55% complete for amp_res_1P.fq.gz\n",
            "Approx 60% complete for amp_res_1P.fq.gz\n",
            "Approx 65% complete for amp_res_1P.fq.gz\n",
            "Approx 70% complete for amp_res_1P.fq.gz\n",
            "Approx 75% complete for amp_res_1P.fq.gz\n",
            "Approx 80% complete for amp_res_1P.fq.gz\n",
            "Approx 85% complete for amp_res_1P.fq.gz\n",
            "Approx 90% complete for amp_res_1P.fq.gz\n",
            "Approx 95% complete for amp_res_1P.fq.gz\n",
            "Analysis complete for amp_res_1P.fq.gz\n",
            "Started analysis of amp_res_2P.fq.gz\n",
            "Approx 5% complete for amp_res_2P.fq.gz\n",
            "Approx 10% complete for amp_res_2P.fq.gz\n",
            "Approx 15% complete for amp_res_2P.fq.gz\n",
            "Approx 20% complete for amp_res_2P.fq.gz\n",
            "Approx 25% complete for amp_res_2P.fq.gz\n",
            "Approx 30% complete for amp_res_2P.fq.gz\n",
            "Approx 35% complete for amp_res_2P.fq.gz\n",
            "Approx 40% complete for amp_res_2P.fq.gz\n",
            "Approx 45% complete for amp_res_2P.fq.gz\n",
            "Approx 50% complete for amp_res_2P.fq.gz\n",
            "Approx 55% complete for amp_res_2P.fq.gz\n",
            "Approx 60% complete for amp_res_2P.fq.gz\n",
            "Approx 65% complete for amp_res_2P.fq.gz\n",
            "Approx 70% complete for amp_res_2P.fq.gz\n",
            "Approx 75% complete for amp_res_2P.fq.gz\n",
            "Approx 80% complete for amp_res_2P.fq.gz\n",
            "Approx 85% complete for amp_res_2P.fq.gz\n",
            "Approx 90% complete for amp_res_2P.fq.gz\n",
            "Approx 95% complete for amp_res_2P.fq.gz\n",
            "Analysis complete for amp_res_2P.fq.gz\n"
          ]
        }
      ]
    },
    {
      "cell_type": "markdown",
      "source": [
        "**Check out html files**\\\n",
        "We can see one red circle for amp_res_1P.fq.gz (\"Per tile sequence quality\") \n",
        "and no one for amp_res_2.fastq.gz.\\\n",
        "Sequence quality improved after trimming.\\\n",
        "However, Sequence Length Destribution turned to yellow for both files (this is natural and does not prevent us from continuing to analyze the data)."
      ],
      "metadata": {
        "id": "bAe-h6AeaDMo"
      }
    },
    {
      "cell_type": "markdown",
      "source": [
        "**Run Trimmomatic in paired end mode, with following parameters:**\\\n",
        "Cut bases off the start of a read if quality below 30.\\\n",
        "Cut bases off the end of a read if quality below 30.\\\n",
        "Trim reads using a sliding window approach, with window size 10 and average quality within the window 30.\\\n",
        "Drop the read if it is below length 30."
      ],
      "metadata": {
        "id": "1UbeXYmYbfri"
      }
    },
    {
      "cell_type": "code",
      "source": [
        "!TrimmomaticPE -phred33 amp_res_1.fastq.gz amp_res_2.fastq.gz -baseout amp_res2.fq.gz LEADING:30 TRAILING:30 SLIDINGWINDOW:10:30 MINLEN:30\n"
      ],
      "metadata": {
        "colab": {
          "base_uri": "https://localhost:8080/"
        },
        "id": "6zA3Xj9sZsx_",
        "outputId": "214f3919-dd57-4ffa-bad8-210dc284b7ca"
      },
      "execution_count": 18,
      "outputs": [
        {
          "output_type": "stream",
          "name": "stdout",
          "text": [
            "TrimmomaticPE: Started with arguments:\n",
            " -phred33 amp_res_1.fastq.gz amp_res_2.fastq.gz -baseout amp_res2.fq.gz LEADING:30 TRAILING:30 SLIDINGWINDOW:10:30 MINLEN:30\n",
            "Multiple cores found: Using 2 threads\n",
            "Using templated Output files: amp_res2_1P.fq.gz amp_res2_1U.fq.gz amp_res2_2P.fq.gz amp_res2_2U.fq.gz\n",
            "Input Read Pairs: 455876 Both Surviving: 360209 (79.01%) Forward Only Surviving: 36716 (8.05%) Reverse Only Surviving: 27291 (5.99%) Dropped: 31660 (6.94%)\n",
            "TrimmomaticPE: Completed successfully\n"
          ]
        }
      ]
    },
    {
      "cell_type": "markdown",
      "source": [
        "**We lost more then 20 % of reads, that can be a problem. \n",
        "Let's check fastqc result.**"
      ],
      "metadata": {
        "id": "409xis7ib_hw"
      }
    },
    {
      "cell_type": "code",
      "source": [
        "!fastqc -o . amp_res2_1P.fq.gz amp_res2_2P.fq.gz"
      ],
      "metadata": {
        "colab": {
          "base_uri": "https://localhost:8080/"
        },
        "id": "gTEVutKacSgJ",
        "outputId": "1f481893-79e1-4979-e7cb-fbc8e4e9d8d1"
      },
      "execution_count": 19,
      "outputs": [
        {
          "output_type": "stream",
          "name": "stdout",
          "text": [
            "Started analysis of amp_res2_1P.fq.gz\n",
            "Approx 5% complete for amp_res2_1P.fq.gz\n",
            "Approx 10% complete for amp_res2_1P.fq.gz\n",
            "Approx 15% complete for amp_res2_1P.fq.gz\n",
            "Approx 20% complete for amp_res2_1P.fq.gz\n",
            "Approx 25% complete for amp_res2_1P.fq.gz\n",
            "Approx 30% complete for amp_res2_1P.fq.gz\n",
            "Approx 35% complete for amp_res2_1P.fq.gz\n",
            "Approx 40% complete for amp_res2_1P.fq.gz\n",
            "Approx 45% complete for amp_res2_1P.fq.gz\n",
            "Approx 50% complete for amp_res2_1P.fq.gz\n",
            "Approx 55% complete for amp_res2_1P.fq.gz\n",
            "Approx 60% complete for amp_res2_1P.fq.gz\n",
            "Approx 65% complete for amp_res2_1P.fq.gz\n",
            "Approx 70% complete for amp_res2_1P.fq.gz\n",
            "Approx 75% complete for amp_res2_1P.fq.gz\n",
            "Approx 80% complete for amp_res2_1P.fq.gz\n",
            "Approx 85% complete for amp_res2_1P.fq.gz\n",
            "Approx 90% complete for amp_res2_1P.fq.gz\n",
            "Approx 95% complete for amp_res2_1P.fq.gz\n",
            "Analysis complete for amp_res2_1P.fq.gz\n",
            "Started analysis of amp_res2_2P.fq.gz\n",
            "Approx 5% complete for amp_res2_2P.fq.gz\n",
            "Approx 10% complete for amp_res2_2P.fq.gz\n",
            "Approx 15% complete for amp_res2_2P.fq.gz\n",
            "Approx 20% complete for amp_res2_2P.fq.gz\n",
            "Approx 25% complete for amp_res2_2P.fq.gz\n",
            "Approx 30% complete for amp_res2_2P.fq.gz\n",
            "Approx 35% complete for amp_res2_2P.fq.gz\n",
            "Approx 40% complete for amp_res2_2P.fq.gz\n",
            "Approx 45% complete for amp_res2_2P.fq.gz\n",
            "Approx 50% complete for amp_res2_2P.fq.gz\n",
            "Approx 55% complete for amp_res2_2P.fq.gz\n",
            "Approx 60% complete for amp_res2_2P.fq.gz\n",
            "Approx 65% complete for amp_res2_2P.fq.gz\n",
            "Approx 70% complete for amp_res2_2P.fq.gz\n",
            "Approx 75% complete for amp_res2_2P.fq.gz\n",
            "Approx 80% complete for amp_res2_2P.fq.gz\n",
            "Approx 85% complete for amp_res2_2P.fq.gz\n",
            "Approx 90% complete for amp_res2_2P.fq.gz\n",
            "Approx 95% complete for amp_res2_2P.fq.gz\n",
            "Analysis complete for amp_res2_2P.fq.gz\n"
          ]
        }
      ]
    },
    {
      "cell_type": "markdown",
      "source": [
        "**Check out html files**\\\n",
        "We can see one red circle for amp_res2_1P.fq.gz (\"Per tile sequence quality\") \n",
        "and one for amp_res2_2.fastq.gz (\"Per tile sequence quality\"). It is a bit worse than previous variant. Besides, we do not want to lose a lot of reads - that would affect coverage. "
      ],
      "metadata": {
        "id": "NZsGFohscnDm"
      }
    },
    {
      "cell_type": "markdown",
      "source": [
        "## Alignment\n"
      ],
      "metadata": {
        "id": "MuPdJ02PdS_A"
      }
    },
    {
      "cell_type": "markdown",
      "source": [
        "**Install aligner bwa**"
      ],
      "metadata": {
        "id": "H_V2gBh7dq3y"
      }
    },
    {
      "cell_type": "code",
      "source": [
        "!sudo apt-get install bwa"
      ],
      "metadata": {
        "colab": {
          "base_uri": "https://localhost:8080/"
        },
        "id": "lEtrvhFYdx6j",
        "outputId": "650dc798-afe9-48c8-9975-9ebb940b7ab0"
      },
      "execution_count": 20,
      "outputs": [
        {
          "output_type": "stream",
          "name": "stdout",
          "text": [
            "Reading package lists... Done\n",
            "Building dependency tree       \n",
            "Reading state information... Done\n",
            "The following package was automatically installed and is no longer required:\n",
            "  libnvidia-common-460\n",
            "Use 'sudo apt autoremove' to remove it.\n",
            "Suggested packages:\n",
            "  samtools\n",
            "The following NEW packages will be installed:\n",
            "  bwa\n",
            "0 upgraded, 1 newly installed, 0 to remove and 27 not upgraded.\n",
            "Need to get 176 kB of archives.\n",
            "After this operation, 404 kB of additional disk space will be used.\n",
            "Get:1 http://archive.ubuntu.com/ubuntu bionic-updates/universe amd64 bwa amd64 0.7.17-1ubuntu0.1 [176 kB]\n",
            "Fetched 176 kB in 0s (450 kB/s)\n",
            "debconf: unable to initialize frontend: Dialog\n",
            "debconf: (No usable dialog-like program is installed, so the dialog based frontend cannot be used. at /usr/share/perl5/Debconf/FrontEnd/Dialog.pm line 76, <> line 1.)\n",
            "debconf: falling back to frontend: Readline\n",
            "debconf: unable to initialize frontend: Readline\n",
            "debconf: (This frontend requires a controlling tty.)\n",
            "debconf: falling back to frontend: Teletype\n",
            "dpkg-preconfigure: unable to re-open stdin: \n",
            "Selecting previously unselected package bwa.\n",
            "(Reading database ... 124309 files and directories currently installed.)\n",
            "Preparing to unpack .../bwa_0.7.17-1ubuntu0.1_amd64.deb ...\n",
            "Unpacking bwa (0.7.17-1ubuntu0.1) ...\n",
            "Setting up bwa (0.7.17-1ubuntu0.1) ...\n",
            "Processing triggers for man-db (2.8.3-2ubuntu0.1) ...\n"
          ]
        }
      ]
    },
    {
      "cell_type": "markdown",
      "source": [
        "**Index the reference file**"
      ],
      "metadata": {
        "id": "dP5TOvvHfTd0"
      }
    },
    {
      "cell_type": "code",
      "source": [
        "!bwa index GCF_000005845.2_ASM584v2_genomic.fna.gz"
      ],
      "metadata": {
        "colab": {
          "base_uri": "https://localhost:8080/"
        },
        "id": "IECAoa_efcec",
        "outputId": "e1ff851d-a888-421f-a818-d290d6ee2870"
      },
      "execution_count": 21,
      "outputs": [
        {
          "output_type": "stream",
          "name": "stdout",
          "text": [
            "[bwa_index] Pack FASTA... 0.06 sec\n",
            "[bwa_index] Construct BWT for the packed sequence...\n",
            "[bwa_index] 1.18 seconds elapse.\n",
            "[bwa_index] Update BWT... 0.02 sec\n",
            "[bwa_index] Pack forward-only FASTA... 0.04 sec\n",
            "[bwa_index] Construct SA from BWT and Occ... 0.47 sec\n",
            "[main] Version: 0.7.17-r1188\n",
            "[main] CMD: bwa index GCF_000005845.2_ASM584v2_genomic.fna.gz\n",
            "[main] Real time: 1.850 sec; CPU: 1.779 sec\n"
          ]
        }
      ]
    },
    {
      "cell_type": "markdown",
      "source": [
        "**Alignment**"
      ],
      "metadata": {
        "id": "ajIbVvM5gIDS"
      }
    },
    {
      "cell_type": "code",
      "source": [
        "!bwa mem GCF_000005845.2_ASM584v2_genomic.fna.gz amp_res_1P.fq.gz amp_res_2P.fq.gz > alignment.sam"
      ],
      "metadata": {
        "colab": {
          "base_uri": "https://localhost:8080/"
        },
        "id": "9qRc_k1_gHEJ",
        "outputId": "5d1b1c93-be2b-41f7-901c-1e76a1824ca0"
      },
      "execution_count": 22,
      "outputs": [
        {
          "output_type": "stream",
          "name": "stdout",
          "text": [
            "[M::bwa_idx_load_from_disk] read 0 ALT contigs\n",
            "[M::process] read 106336 sequences (10000178 bp)...\n",
            "[M::process] read 108264 sequences (10000141 bp)...\n",
            "[M::mem_pestat] # candidate unique pairs for (FF, FR, RF, RR): (9, 51236, 0, 22)\n",
            "[M::mem_pestat] skip orientation FF as there are not enough pairs\n",
            "[M::mem_pestat] analyzing insert size distribution for orientation FR...\n",
            "[M::mem_pestat] (25, 50, 75) percentile: (145, 185, 230)\n",
            "[M::mem_pestat] low and high boundaries for computing mean and std.dev: (1, 400)\n",
            "[M::mem_pestat] mean and std.dev: (189.31, 63.57)\n",
            "[M::mem_pestat] low and high boundaries for proper pairs: (1, 485)\n",
            "[M::mem_pestat] skip orientation RF as there are not enough pairs\n",
            "[M::mem_pestat] analyzing insert size distribution for orientation RR...\n",
            "[M::mem_pestat] (25, 50, 75) percentile: (114, 158, 263)\n",
            "[M::mem_pestat] low and high boundaries for computing mean and std.dev: (1, 561)\n",
            "[M::mem_pestat] mean and std.dev: (131.82, 63.27)\n",
            "[M::mem_pestat] low and high boundaries for proper pairs: (1, 710)\n",
            "[M::mem_pestat] skip orientation RR\n",
            "[M::mem_process_seqs] Processed 106336 reads in 3.297 CPU sec, 3.029 real sec\n",
            "[M::process] read 108866 sequences (10000007 bp)...\n",
            "[M::mem_pestat] # candidate unique pairs for (FF, FR, RF, RR): (20, 51941, 0, 17)\n",
            "[M::mem_pestat] analyzing insert size distribution for orientation FF...\n",
            "[M::mem_pestat] (25, 50, 75) percentile: (80, 107, 210)\n",
            "[M::mem_pestat] low and high boundaries for computing mean and std.dev: (1, 470)\n",
            "[M::mem_pestat] mean and std.dev: (119.00, 69.53)\n",
            "[M::mem_pestat] low and high boundaries for proper pairs: (1, 600)\n",
            "[M::mem_pestat] analyzing insert size distribution for orientation FR...\n",
            "[M::mem_pestat] (25, 50, 75) percentile: (143, 182, 228)\n",
            "[M::mem_pestat] low and high boundaries for computing mean and std.dev: (1, 398)\n",
            "[M::mem_pestat] mean and std.dev: (187.08, 63.02)\n",
            "[M::mem_pestat] low and high boundaries for proper pairs: (1, 483)\n",
            "[M::mem_pestat] skip orientation RF as there are not enough pairs\n",
            "[M::mem_pestat] analyzing insert size distribution for orientation RR...\n",
            "[M::mem_pestat] (25, 50, 75) percentile: (89, 176, 483)\n",
            "[M::mem_pestat] low and high boundaries for computing mean and std.dev: (1, 1271)\n",
            "[M::mem_pestat] mean and std.dev: (169.14, 114.54)\n",
            "[M::mem_pestat] low and high boundaries for proper pairs: (1, 1665)\n",
            "[M::mem_pestat] skip orientation FF\n",
            "[M::mem_pestat] skip orientation RR\n",
            "[M::mem_process_seqs] Processed 108264 reads in 3.488 CPU sec, 3.125 real sec\n",
            "[M::process] read 106080 sequences (10000082 bp)...\n",
            "[M::mem_pestat] # candidate unique pairs for (FF, FR, RF, RR): (12, 52355, 0, 9)\n",
            "[M::mem_pestat] analyzing insert size distribution for orientation FF...\n",
            "[M::mem_pestat] (25, 50, 75) percentile: (100, 144, 178)\n",
            "[M::mem_pestat] low and high boundaries for computing mean and std.dev: (1, 334)\n",
            "[M::mem_pestat] mean and std.dev: (144.00, 68.68)\n",
            "[M::mem_pestat] low and high boundaries for proper pairs: (1, 419)\n",
            "[M::mem_pestat] analyzing insert size distribution for orientation FR...\n",
            "[M::mem_pestat] (25, 50, 75) percentile: (142, 181, 226)\n",
            "[M::mem_pestat] low and high boundaries for computing mean and std.dev: (1, 394)\n",
            "[M::mem_pestat] mean and std.dev: (185.62, 62.36)\n",
            "[M::mem_pestat] low and high boundaries for proper pairs: (1, 478)\n",
            "[M::mem_pestat] skip orientation RF as there are not enough pairs\n",
            "[M::mem_pestat] skip orientation RR as there are not enough pairs\n",
            "[M::mem_pestat] skip orientation FF\n",
            "[M::mem_process_seqs] Processed 108866 reads in 3.480 CPU sec, 3.104 real sec\n",
            "[M::process] read 105898 sequences (10000056 bp)...\n",
            "[M::mem_pestat] # candidate unique pairs for (FF, FR, RF, RR): (12, 51082, 0, 13)\n",
            "[M::mem_pestat] analyzing insert size distribution for orientation FF...\n",
            "[M::mem_pestat] (25, 50, 75) percentile: (84, 104, 198)\n",
            "[M::mem_pestat] low and high boundaries for computing mean and std.dev: (1, 426)\n",
            "[M::mem_pestat] mean and std.dev: (130.17, 58.69)\n",
            "[M::mem_pestat] low and high boundaries for proper pairs: (1, 540)\n",
            "[M::mem_pestat] analyzing insert size distribution for orientation FR...\n",
            "[M::mem_pestat] (25, 50, 75) percentile: (144, 184, 231)\n",
            "[M::mem_pestat] low and high boundaries for computing mean and std.dev: (1, 405)\n",
            "[M::mem_pestat] mean and std.dev: (189.11, 64.13)\n",
            "[M::mem_pestat] low and high boundaries for proper pairs: (1, 492)\n",
            "[M::mem_pestat] skip orientation RF as there are not enough pairs\n",
            "[M::mem_pestat] analyzing insert size distribution for orientation RR...\n",
            "[M::mem_pestat] (25, 50, 75) percentile: (110, 130, 1006)\n",
            "[M::mem_pestat] low and high boundaries for computing mean and std.dev: (1, 2798)\n",
            "[M::mem_pestat] mean and std.dev: (475.38, 646.65)\n",
            "[M::mem_pestat] low and high boundaries for proper pairs: (1, 3694)\n",
            "[M::mem_pestat] skip orientation FF\n",
            "[M::mem_pestat] skip orientation RR\n",
            "[M::mem_process_seqs] Processed 106080 reads in 3.428 CPU sec, 3.083 real sec\n",
            "[M::process] read 106462 sequences (10000139 bp)...\n",
            "[M::mem_pestat] # candidate unique pairs for (FF, FR, RF, RR): (13, 50847, 0, 11)\n",
            "[M::mem_pestat] analyzing insert size distribution for orientation FF...\n",
            "[M::mem_pestat] (25, 50, 75) percentile: (54, 73, 174)\n",
            "[M::mem_pestat] low and high boundaries for computing mean and std.dev: (1, 414)\n",
            "[M::mem_pestat] mean and std.dev: (115.38, 97.82)\n",
            "[M::mem_pestat] low and high boundaries for proper pairs: (1, 534)\n",
            "[M::mem_pestat] analyzing insert size distribution for orientation FR...\n",
            "[M::mem_pestat] (25, 50, 75) percentile: (143, 182, 227)\n",
            "[M::mem_pestat] low and high boundaries for computing mean and std.dev: (1, 395)\n",
            "[M::mem_pestat] mean and std.dev: (186.61, 62.43)\n",
            "[M::mem_pestat] low and high boundaries for proper pairs: (1, 479)\n",
            "[M::mem_pestat] skip orientation RF as there are not enough pairs\n",
            "[M::mem_pestat] analyzing insert size distribution for orientation RR...\n",
            "[M::mem_pestat] (25, 50, 75) percentile: (83, 125, 196)\n",
            "[M::mem_pestat] low and high boundaries for computing mean and std.dev: (1, 422)\n",
            "[M::mem_pestat] mean and std.dev: (118.30, 58.38)\n",
            "[M::mem_pestat] low and high boundaries for proper pairs: (1, 535)\n",
            "[M::mem_pestat] skip orientation FF\n",
            "[M::mem_pestat] skip orientation RR\n",
            "[M::mem_process_seqs] Processed 105898 reads in 3.406 CPU sec, 3.073 real sec\n",
            "[M::process] read 107332 sequences (10000102 bp)...\n",
            "[M::mem_pestat] # candidate unique pairs for (FF, FR, RF, RR): (18, 51182, 0, 16)\n",
            "[M::mem_pestat] analyzing insert size distribution for orientation FF...\n",
            "[M::mem_pestat] (25, 50, 75) percentile: (89, 126, 175)\n",
            "[M::mem_pestat] low and high boundaries for computing mean and std.dev: (1, 347)\n",
            "[M::mem_pestat] mean and std.dev: (122.25, 49.00)\n",
            "[M::mem_pestat] low and high boundaries for proper pairs: (1, 433)\n",
            "[M::mem_pestat] analyzing insert size distribution for orientation FR...\n",
            "[M::mem_pestat] (25, 50, 75) percentile: (144, 183, 229)\n",
            "[M::mem_pestat] low and high boundaries for computing mean and std.dev: (1, 399)\n",
            "[M::mem_pestat] mean and std.dev: (188.25, 63.49)\n",
            "[M::mem_pestat] low and high boundaries for proper pairs: (1, 484)\n",
            "[M::mem_pestat] skip orientation RF as there are not enough pairs\n",
            "[M::mem_pestat] analyzing insert size distribution for orientation RR...\n",
            "[M::mem_pestat] (25, 50, 75) percentile: (52, 105, 220)\n",
            "[M::mem_pestat] low and high boundaries for computing mean and std.dev: (1, 556)\n",
            "[M::mem_pestat] mean and std.dev: (120.33, 80.63)\n",
            "[M::mem_pestat] low and high boundaries for proper pairs: (1, 724)\n",
            "[M::mem_pestat] skip orientation FF\n",
            "[M::mem_pestat] skip orientation RR\n",
            "[M::mem_process_seqs] Processed 106462 reads in 3.576 CPU sec, 3.229 real sec\n",
            "[M::process] read 104428 sequences (10000060 bp)...\n",
            "[M::mem_pestat] # candidate unique pairs for (FF, FR, RF, RR): (11, 51264, 0, 13)\n",
            "[M::mem_pestat] analyzing insert size distribution for orientation FF...\n",
            "[M::mem_pestat] (25, 50, 75) percentile: (54, 90, 172)\n",
            "[M::mem_pestat] low and high boundaries for computing mean and std.dev: (1, 408)\n",
            "[M::mem_pestat] mean and std.dev: (108.73, 60.01)\n",
            "[M::mem_pestat] low and high boundaries for proper pairs: (1, 526)\n",
            "[M::mem_pestat] analyzing insert size distribution for orientation FR...\n",
            "[M::mem_pestat] (25, 50, 75) percentile: (143, 183, 228)\n",
            "[M::mem_pestat] low and high boundaries for computing mean and std.dev: (1, 398)\n",
            "[M::mem_pestat] mean and std.dev: (187.11, 62.86)\n",
            "[M::mem_pestat] low and high boundaries for proper pairs: (1, 483)\n",
            "[M::mem_pestat] skip orientation RF as there are not enough pairs\n",
            "[M::mem_pestat] analyzing insert size distribution for orientation RR...\n",
            "[M::mem_pestat] (25, 50, 75) percentile: (58, 108, 277)\n",
            "[M::mem_pestat] low and high boundaries for computing mean and std.dev: (1, 715)\n",
            "[M::mem_pestat] mean and std.dev: (144.67, 98.99)\n",
            "[M::mem_pestat] low and high boundaries for proper pairs: (1, 934)\n",
            "[M::mem_pestat] skip orientation FF\n",
            "[M::mem_pestat] skip orientation RR\n",
            "[M::mem_process_seqs] Processed 107332 reads in 3.934 CPU sec, 3.604 real sec\n",
            "[M::process] read 38852 sequences (3652257 bp)...\n",
            "[M::mem_pestat] # candidate unique pairs for (FF, FR, RF, RR): (12, 50337, 0, 10)\n",
            "[M::mem_pestat] analyzing insert size distribution for orientation FF...\n",
            "[M::mem_pestat] (25, 50, 75) percentile: (68, 135, 213)\n",
            "[M::mem_pestat] low and high boundaries for computing mean and std.dev: (1, 503)\n",
            "[M::mem_pestat] mean and std.dev: (120.09, 68.06)\n",
            "[M::mem_pestat] low and high boundaries for proper pairs: (1, 648)\n",
            "[M::mem_pestat] analyzing insert size distribution for orientation FR...\n",
            "[M::mem_pestat] (25, 50, 75) percentile: (143, 183, 229)\n",
            "[M::mem_pestat] low and high boundaries for computing mean and std.dev: (1, 401)\n",
            "[M::mem_pestat] mean and std.dev: (188.26, 63.56)\n",
            "[M::mem_pestat] low and high boundaries for proper pairs: (1, 487)\n",
            "[M::mem_pestat] skip orientation RF as there are not enough pairs\n",
            "[M::mem_pestat] analyzing insert size distribution for orientation RR...\n",
            "[M::mem_pestat] (25, 50, 75) percentile: (102, 140, 152)\n",
            "[M::mem_pestat] low and high boundaries for computing mean and std.dev: (2, 252)\n",
            "[M::mem_pestat] mean and std.dev: (116.11, 42.39)\n",
            "[M::mem_pestat] low and high boundaries for proper pairs: (1, 302)\n",
            "[M::mem_pestat] skip orientation FF\n",
            "[M::mem_pestat] skip orientation RR\n",
            "[M::mem_process_seqs] Processed 104428 reads in 3.299 CPU sec, 3.099 real sec\n",
            "[M::mem_pestat] # candidate unique pairs for (FF, FR, RF, RR): (2, 18569, 0, 4)\n",
            "[M::mem_pestat] skip orientation FF as there are not enough pairs\n",
            "[M::mem_pestat] analyzing insert size distribution for orientation FR...\n",
            "[M::mem_pestat] (25, 50, 75) percentile: (141, 179, 224)\n",
            "[M::mem_pestat] low and high boundaries for computing mean and std.dev: (1, 390)\n",
            "[M::mem_pestat] mean and std.dev: (184.02, 61.49)\n",
            "[M::mem_pestat] low and high boundaries for proper pairs: (1, 473)\n",
            "[M::mem_pestat] skip orientation RF as there are not enough pairs\n",
            "[M::mem_pestat] skip orientation RR as there are not enough pairs\n",
            "[M::mem_process_seqs] Processed 38852 reads in 1.244 CPU sec, 1.142 real sec\n",
            "[main] Version: 0.7.17-r1188\n",
            "[main] CMD: bwa mem GCF_000005845.2_ASM584v2_genomic.fna.gz amp_res_1P.fq.gz amp_res_2P.fq.gz\n",
            "[main] Real time: 27.004 sec; CPU: 29.410 sec\n"
          ]
        }
      ]
    },
    {
      "cell_type": "markdown",
      "source": [
        "**Compress SAM file**"
      ],
      "metadata": {
        "id": "JInwuRR5gffm"
      }
    },
    {
      "cell_type": "code",
      "source": [
        "!sudo apt-get install samtools"
      ],
      "metadata": {
        "colab": {
          "base_uri": "https://localhost:8080/"
        },
        "id": "T0LRVo0Dg2kT",
        "outputId": "f969f3a8-bc79-4cfd-e602-02fec30d317d"
      },
      "execution_count": 25,
      "outputs": [
        {
          "output_type": "stream",
          "name": "stdout",
          "text": [
            "Reading package lists... Done\n",
            "Building dependency tree       \n",
            "Reading state information... Done\n",
            "The following package was automatically installed and is no longer required:\n",
            "  libnvidia-common-460\n",
            "Use 'sudo apt autoremove' to remove it.\n",
            "The following additional packages will be installed:\n",
            "  cwltool libc-ares2 libhts2 libjs-bootstrap nodejs nodejs-doc\n",
            "  python-asn1crypto python-avro python-cachecontrol python-certifi\n",
            "  python-cffi-backend python-chardet python-cryptography python-enum34\n",
            "  python-html5lib python-idna python-ipaddress python-isodate python-lockfile\n",
            "  python-mistune python-openssl python-pkg-resources python-pyparsing\n",
            "  python-rdflib python-rdflib-jsonld python-requests python-ruamel.yaml\n",
            "  python-schema-salad python-shellescape python-six python-sparqlwrapper\n",
            "  python-typing python-urllib3 python-webencodings\n",
            "Suggested packages:\n",
            "  python-cryptography-doc python-cryptography-vectors python-enum34-doc\n",
            "  python-genshi python-lxml python-lockfile-doc python-openssl-doc\n",
            "  python-openssl-dbg python-setuptools python-pyparsing-doc python-rdflib-doc\n",
            "  python-rdflib-tools python-socks python-ntlm\n",
            "The following NEW packages will be installed:\n",
            "  cwltool libc-ares2 libhts2 libjs-bootstrap nodejs nodejs-doc\n",
            "  python-asn1crypto python-avro python-cachecontrol python-certifi\n",
            "  python-cffi-backend python-chardet python-cryptography python-enum34\n",
            "  python-html5lib python-idna python-ipaddress python-isodate python-lockfile\n",
            "  python-mistune python-openssl python-pkg-resources python-pyparsing\n",
            "  python-rdflib python-rdflib-jsonld python-requests python-ruamel.yaml\n",
            "  python-schema-salad python-shellescape python-six python-sparqlwrapper\n",
            "  python-typing python-urllib3 python-webencodings samtools\n",
            "0 upgraded, 35 newly installed, 0 to remove and 27 not upgraded.\n",
            "Need to get 8,568 kB of archives.\n",
            "After this operation, 41.0 MB of additional disk space will be used.\n",
            "Get:1 http://archive.ubuntu.com/ubuntu bionic/main amd64 python-pkg-resources all 39.0.1-2 [128 kB]\n",
            "Get:2 http://archive.ubuntu.com/ubuntu bionic/main amd64 python-six all 1.11.0-2 [11.3 kB]\n",
            "Get:3 http://archive.ubuntu.com/ubuntu bionic/universe amd64 python-isodate all 0.6.0-1 [23.8 kB]\n",
            "Get:4 http://archive.ubuntu.com/ubuntu bionic/main amd64 python-pyparsing all 2.2.0+dfsg1-2 [52.1 kB]\n",
            "Get:5 http://archive.ubuntu.com/ubuntu bionic/universe amd64 python-rdflib all 4.2.1-2 [237 kB]\n",
            "Get:6 http://archive.ubuntu.com/ubuntu bionic/main amd64 python-certifi all 2018.1.18-2 [144 kB]\n",
            "Get:7 http://archive.ubuntu.com/ubuntu bionic/main amd64 python-chardet all 3.0.4-1 [80.3 kB]\n",
            "Get:8 http://archive.ubuntu.com/ubuntu bionic/main amd64 python-idna all 2.6-1 [32.4 kB]\n",
            "Get:9 http://archive.ubuntu.com/ubuntu bionic-updates/main amd64 python-urllib3 all 1.22-1ubuntu0.18.04.2 [86.0 kB]\n",
            "Get:10 http://archive.ubuntu.com/ubuntu bionic-updates/main amd64 python-requests all 2.18.4-2ubuntu0.1 [58.5 kB]\n",
            "Get:11 http://archive.ubuntu.com/ubuntu bionic/universe amd64 python-ruamel.yaml amd64 0.15.34-1 [183 kB]\n",
            "Get:12 http://archive.ubuntu.com/ubuntu bionic/universe amd64 python-cachecontrol all 0.11.7-1 [15.2 kB]\n",
            "Get:13 http://archive.ubuntu.com/ubuntu bionic/main amd64 python-lockfile all 1:0.12.2-2 [14.6 kB]\n",
            "Get:14 http://archive.ubuntu.com/ubuntu bionic/universe amd64 python-mistune all 0.8.3-2 [13.8 kB]\n",
            "Get:15 http://archive.ubuntu.com/ubuntu bionic/universe amd64 python-rdflib-jsonld all 0.4.0-3 [12.2 kB]\n",
            "Get:16 http://archive.ubuntu.com/ubuntu bionic/universe amd64 python-typing all 3.6.2-1 [22.2 kB]\n",
            "Get:17 http://archive.ubuntu.com/ubuntu bionic/universe amd64 python-avro all 1.8.2+dfsg-1 [23.2 kB]\n",
            "Get:18 http://archive.ubuntu.com/ubuntu bionic/universe amd64 libjs-bootstrap all 3.3.7+dfsg-2 [228 kB]\n",
            "Get:19 http://archive.ubuntu.com/ubuntu bionic/universe amd64 python-schema-salad all 2.6.20171201034858-3 [260 kB]\n",
            "Get:20 http://archive.ubuntu.com/ubuntu bionic/universe amd64 python-shellescape all 3.4.1-2 [4,432 B]\n",
            "Get:21 http://archive.ubuntu.com/ubuntu bionic/universe amd64 cwltool all 1.0.20180302231433-1 [143 kB]\n",
            "Get:22 http://archive.ubuntu.com/ubuntu bionic/universe amd64 libhts2 amd64 1.7-2 [300 kB]\n",
            "Get:23 http://archive.ubuntu.com/ubuntu bionic-updates/universe amd64 nodejs-doc all 8.10.0~dfsg-2ubuntu0.4 [752 kB]\n",
            "Get:24 http://archive.ubuntu.com/ubuntu bionic/main amd64 python-asn1crypto all 0.24.0-1 [72.7 kB]\n",
            "Get:25 http://archive.ubuntu.com/ubuntu bionic/main amd64 python-cffi-backend amd64 1.11.5-1 [63.4 kB]\n",
            "Get:26 http://archive.ubuntu.com/ubuntu bionic/main amd64 python-enum34 all 1.1.6-2 [34.8 kB]\n",
            "Get:27 http://archive.ubuntu.com/ubuntu bionic/main amd64 python-ipaddress all 1.0.17-1 [18.2 kB]\n",
            "Get:28 http://archive.ubuntu.com/ubuntu bionic-updates/main amd64 python-cryptography amd64 2.1.4-1ubuntu1.4 [276 kB]\n",
            "Get:29 http://archive.ubuntu.com/ubuntu bionic/main amd64 python-webencodings all 0.5-2 [10.3 kB]\n",
            "Get:30 http://archive.ubuntu.com/ubuntu bionic/main amd64 python-html5lib all 0.999999999-1 [83.6 kB]\n",
            "Get:31 http://archive.ubuntu.com/ubuntu bionic/main amd64 python-openssl all 17.5.0-1ubuntu1 [41.3 kB]\n",
            "Get:32 http://archive.ubuntu.com/ubuntu bionic/universe amd64 python-sparqlwrapper all 1.7.6-2 [21.8 kB]\n",
            "Get:33 http://archive.ubuntu.com/ubuntu bionic/universe amd64 samtools amd64 1.7-1 [288 kB]\n",
            "Get:34 http://archive.ubuntu.com/ubuntu bionic-updates/main amd64 libc-ares2 amd64 1.14.0-1ubuntu0.1 [37.5 kB]\n",
            "Get:35 http://archive.ubuntu.com/ubuntu bionic-updates/universe amd64 nodejs amd64 8.10.0~dfsg-2ubuntu0.4 [4,796 kB]\n",
            "Fetched 8,568 kB in 2s (3,913 kB/s)\n",
            "debconf: unable to initialize frontend: Dialog\n",
            "debconf: (No usable dialog-like program is installed, so the dialog based frontend cannot be used. at /usr/share/perl5/Debconf/FrontEnd/Dialog.pm line 76, <> line 35.)\n",
            "debconf: falling back to frontend: Readline\n",
            "debconf: unable to initialize frontend: Readline\n",
            "debconf: (This frontend requires a controlling tty.)\n",
            "debconf: falling back to frontend: Teletype\n",
            "dpkg-preconfigure: unable to re-open stdin: \n",
            "Selecting previously unselected package python-pkg-resources.\n",
            "(Reading database ... 124326 files and directories currently installed.)\n",
            "Preparing to unpack .../00-python-pkg-resources_39.0.1-2_all.deb ...\n",
            "Unpacking python-pkg-resources (39.0.1-2) ...\n",
            "Selecting previously unselected package python-six.\n",
            "Preparing to unpack .../01-python-six_1.11.0-2_all.deb ...\n",
            "Unpacking python-six (1.11.0-2) ...\n",
            "Selecting previously unselected package python-isodate.\n",
            "Preparing to unpack .../02-python-isodate_0.6.0-1_all.deb ...\n",
            "Unpacking python-isodate (0.6.0-1) ...\n",
            "Selecting previously unselected package python-pyparsing.\n",
            "Preparing to unpack .../03-python-pyparsing_2.2.0+dfsg1-2_all.deb ...\n",
            "Unpacking python-pyparsing (2.2.0+dfsg1-2) ...\n",
            "Selecting previously unselected package python-rdflib.\n",
            "Preparing to unpack .../04-python-rdflib_4.2.1-2_all.deb ...\n",
            "Unpacking python-rdflib (4.2.1-2) ...\n",
            "Selecting previously unselected package python-certifi.\n",
            "Preparing to unpack .../05-python-certifi_2018.1.18-2_all.deb ...\n",
            "Unpacking python-certifi (2018.1.18-2) ...\n",
            "Selecting previously unselected package python-chardet.\n",
            "Preparing to unpack .../06-python-chardet_3.0.4-1_all.deb ...\n",
            "Unpacking python-chardet (3.0.4-1) ...\n",
            "Selecting previously unselected package python-idna.\n",
            "Preparing to unpack .../07-python-idna_2.6-1_all.deb ...\n",
            "Unpacking python-idna (2.6-1) ...\n",
            "Selecting previously unselected package python-urllib3.\n",
            "Preparing to unpack .../08-python-urllib3_1.22-1ubuntu0.18.04.2_all.deb ...\n",
            "Unpacking python-urllib3 (1.22-1ubuntu0.18.04.2) ...\n",
            "Selecting previously unselected package python-requests.\n",
            "Preparing to unpack .../09-python-requests_2.18.4-2ubuntu0.1_all.deb ...\n",
            "Unpacking python-requests (2.18.4-2ubuntu0.1) ...\n",
            "Selecting previously unselected package python-ruamel.yaml.\n",
            "Preparing to unpack .../10-python-ruamel.yaml_0.15.34-1_amd64.deb ...\n",
            "Unpacking python-ruamel.yaml (0.15.34-1) ...\n",
            "Selecting previously unselected package python-cachecontrol.\n",
            "Preparing to unpack .../11-python-cachecontrol_0.11.7-1_all.deb ...\n",
            "Unpacking python-cachecontrol (0.11.7-1) ...\n",
            "Selecting previously unselected package python-lockfile.\n",
            "Preparing to unpack .../12-python-lockfile_1%3a0.12.2-2_all.deb ...\n",
            "Unpacking python-lockfile (1:0.12.2-2) ...\n",
            "Selecting previously unselected package python-mistune.\n",
            "Preparing to unpack .../13-python-mistune_0.8.3-2_all.deb ...\n",
            "Unpacking python-mistune (0.8.3-2) ...\n",
            "Selecting previously unselected package python-rdflib-jsonld.\n",
            "Preparing to unpack .../14-python-rdflib-jsonld_0.4.0-3_all.deb ...\n",
            "Unpacking python-rdflib-jsonld (0.4.0-3) ...\n",
            "Selecting previously unselected package python-typing.\n",
            "Preparing to unpack .../15-python-typing_3.6.2-1_all.deb ...\n",
            "Unpacking python-typing (3.6.2-1) ...\n",
            "Selecting previously unselected package python-avro.\n",
            "Preparing to unpack .../16-python-avro_1.8.2+dfsg-1_all.deb ...\n",
            "Unpacking python-avro (1.8.2+dfsg-1) ...\n",
            "Selecting previously unselected package libjs-bootstrap.\n",
            "Preparing to unpack .../17-libjs-bootstrap_3.3.7+dfsg-2_all.deb ...\n",
            "Unpacking libjs-bootstrap (3.3.7+dfsg-2) ...\n",
            "Selecting previously unselected package python-schema-salad.\n",
            "Preparing to unpack .../18-python-schema-salad_2.6.20171201034858-3_all.deb ...\n",
            "Unpacking python-schema-salad (2.6.20171201034858-3) ...\n",
            "Selecting previously unselected package python-shellescape.\n",
            "Preparing to unpack .../19-python-shellescape_3.4.1-2_all.deb ...\n",
            "Unpacking python-shellescape (3.4.1-2) ...\n",
            "Selecting previously unselected package cwltool.\n",
            "Preparing to unpack .../20-cwltool_1.0.20180302231433-1_all.deb ...\n",
            "Unpacking cwltool (1.0.20180302231433-1) ...\n",
            "Selecting previously unselected package libhts2:amd64.\n",
            "Preparing to unpack .../21-libhts2_1.7-2_amd64.deb ...\n",
            "Unpacking libhts2:amd64 (1.7-2) ...\n",
            "Selecting previously unselected package nodejs-doc.\n",
            "Preparing to unpack .../22-nodejs-doc_8.10.0~dfsg-2ubuntu0.4_all.deb ...\n",
            "Unpacking nodejs-doc (8.10.0~dfsg-2ubuntu0.4) ...\n",
            "Selecting previously unselected package python-asn1crypto.\n",
            "Preparing to unpack .../23-python-asn1crypto_0.24.0-1_all.deb ...\n",
            "Unpacking python-asn1crypto (0.24.0-1) ...\n",
            "Selecting previously unselected package python-cffi-backend.\n",
            "Preparing to unpack .../24-python-cffi-backend_1.11.5-1_amd64.deb ...\n",
            "Unpacking python-cffi-backend (1.11.5-1) ...\n",
            "Selecting previously unselected package python-enum34.\n",
            "Preparing to unpack .../25-python-enum34_1.1.6-2_all.deb ...\n",
            "Unpacking python-enum34 (1.1.6-2) ...\n",
            "Selecting previously unselected package python-ipaddress.\n",
            "Preparing to unpack .../26-python-ipaddress_1.0.17-1_all.deb ...\n",
            "Unpacking python-ipaddress (1.0.17-1) ...\n",
            "Selecting previously unselected package python-cryptography.\n",
            "Preparing to unpack .../27-python-cryptography_2.1.4-1ubuntu1.4_amd64.deb ...\n",
            "Unpacking python-cryptography (2.1.4-1ubuntu1.4) ...\n",
            "Selecting previously unselected package python-webencodings.\n",
            "Preparing to unpack .../28-python-webencodings_0.5-2_all.deb ...\n",
            "Unpacking python-webencodings (0.5-2) ...\n",
            "Selecting previously unselected package python-html5lib.\n",
            "Preparing to unpack .../29-python-html5lib_0.999999999-1_all.deb ...\n",
            "Unpacking python-html5lib (0.999999999-1) ...\n",
            "Selecting previously unselected package python-openssl.\n",
            "Preparing to unpack .../30-python-openssl_17.5.0-1ubuntu1_all.deb ...\n",
            "Unpacking python-openssl (17.5.0-1ubuntu1) ...\n",
            "Selecting previously unselected package python-sparqlwrapper.\n",
            "Preparing to unpack .../31-python-sparqlwrapper_1.7.6-2_all.deb ...\n",
            "Unpacking python-sparqlwrapper (1.7.6-2) ...\n",
            "Selecting previously unselected package samtools.\n",
            "Preparing to unpack .../32-samtools_1.7-1_amd64.deb ...\n",
            "Unpacking samtools (1.7-1) ...\n",
            "Selecting previously unselected package libc-ares2:amd64.\n",
            "Preparing to unpack .../33-libc-ares2_1.14.0-1ubuntu0.1_amd64.deb ...\n",
            "Unpacking libc-ares2:amd64 (1.14.0-1ubuntu0.1) ...\n",
            "Selecting previously unselected package nodejs.\n",
            "Preparing to unpack .../34-nodejs_8.10.0~dfsg-2ubuntu0.4_amd64.deb ...\n",
            "Unpacking nodejs (8.10.0~dfsg-2ubuntu0.4) ...\n",
            "Setting up python-idna (2.6-1) ...\n",
            "Setting up nodejs-doc (8.10.0~dfsg-2ubuntu0.4) ...\n",
            "Setting up python-asn1crypto (0.24.0-1) ...\n",
            "Setting up python-mistune (0.8.3-2) ...\n",
            "Setting up python-certifi (2018.1.18-2) ...\n",
            "Setting up python-avro (1.8.2+dfsg-1) ...\n",
            "Setting up python-pkg-resources (39.0.1-2) ...\n",
            "Setting up python-ruamel.yaml (0.15.34-1) ...\n",
            "Setting up python-cffi-backend (1.11.5-1) ...\n",
            "Setting up python-six (1.11.0-2) ...\n",
            "Setting up python-isodate (0.6.0-1) ...\n",
            "Setting up python-shellescape (3.4.1-2) ...\n",
            "Setting up python-enum34 (1.1.6-2) ...\n",
            "Setting up libjs-bootstrap (3.3.7+dfsg-2) ...\n",
            "Setting up python-lockfile (1:0.12.2-2) ...\n",
            "Setting up python-ipaddress (1.0.17-1) ...\n",
            "Setting up libc-ares2:amd64 (1.14.0-1ubuntu0.1) ...\n",
            "Setting up libhts2:amd64 (1.7-2) ...\n",
            "Setting up python-webencodings (0.5-2) ...\n",
            "Setting up python-typing (3.6.2-1) ...\n",
            "Setting up python-pyparsing (2.2.0+dfsg1-2) ...\n",
            "Setting up python-urllib3 (1.22-1ubuntu0.18.04.2) ...\n",
            "Setting up python-chardet (3.0.4-1) ...\n",
            "Setting up nodejs (8.10.0~dfsg-2ubuntu0.4) ...\n",
            "update-alternatives: using /usr/bin/nodejs to provide /usr/bin/js (js) in auto mode\n",
            "Setting up python-rdflib (4.2.1-2) ...\n",
            "Setting up python-sparqlwrapper (1.7.6-2) ...\n",
            "Setting up python-rdflib-jsonld (0.4.0-3) ...\n",
            "Setting up python-cryptography (2.1.4-1ubuntu1.4) ...\n",
            "Setting up python-requests (2.18.4-2ubuntu0.1) ...\n",
            "Setting up python-cachecontrol (0.11.7-1) ...\n",
            "Setting up python-schema-salad (2.6.20171201034858-3) ...\n",
            "Setting up python-html5lib (0.999999999-1) ...\n",
            "Setting up samtools (1.7-1) ...\n",
            "Setting up python-openssl (17.5.0-1ubuntu1) ...\n",
            "Setting up cwltool (1.0.20180302231433-1) ...\n",
            "Processing triggers for libc-bin (2.27-3ubuntu1.6) ...\n",
            "Processing triggers for man-db (2.8.3-2ubuntu0.1) ...\n"
          ]
        }
      ]
    },
    {
      "cell_type": "code",
      "source": [
        "!samtools view -S -b alignment.sam > alignment.bam"
      ],
      "metadata": {
        "id": "LNt1vNWQgubw"
      },
      "execution_count": 26,
      "outputs": []
    },
    {
      "cell_type": "markdown",
      "source": [
        "**Look at some summary**"
      ],
      "metadata": {
        "id": "yvl5sLRphXw2"
      }
    },
    {
      "cell_type": "code",
      "source": [
        "!samtools flagstat alignment.bam"
      ],
      "metadata": {
        "colab": {
          "base_uri": "https://localhost:8080/"
        },
        "id": "7GkAv6jqh0qO",
        "outputId": "a5a80ffb-9bdf-45a2-8304-0d596735b3eb"
      },
      "execution_count": 27,
      "outputs": [
        {
          "output_type": "stream",
          "name": "stdout",
          "text": [
            "892776 + 0 in total (QC-passed reads + QC-failed reads)\n",
            "0 + 0 secondary\n",
            "258 + 0 supplementary\n",
            "0 + 0 duplicates\n",
            "891649 + 0 mapped (99.87% : N/A)\n",
            "892518 + 0 paired in sequencing\n",
            "446259 + 0 read1\n",
            "446259 + 0 read2\n",
            "888554 + 0 properly paired (99.56% : N/A)\n",
            "890412 + 0 with itself and mate mapped\n",
            "979 + 0 singletons (0.11% : N/A)\n",
            "0 + 0 with mate mapped to a different chr\n",
            "0 + 0 with mate mapped to a different chr (mapQ>=5)\n"
          ]
        }
      ]
    },
    {
      "cell_type": "markdown",
      "source": [
        "**Sort and index BAM file**"
      ],
      "metadata": {
        "id": "jgMWTTSwh_GS"
      }
    },
    {
      "cell_type": "code",
      "source": [
        "!samtools sort alignment.bam -o alignment_sorted.bam\n",
        "!samtools index alignment_sorted.bam"
      ],
      "metadata": {
        "id": "AIFBKneGjXRI"
      },
      "execution_count": 28,
      "outputs": []
    },
    {
      "cell_type": "markdown",
      "source": [
        "## Variant calling"
      ],
      "metadata": {
        "id": "WreLOnIAk4zh"
      }
    },
    {
      "cell_type": "markdown",
      "source": [
        "**Create mpileup file**"
      ],
      "metadata": {
        "id": "Wnmfey3blAJY"
      }
    },
    {
      "cell_type": "code",
      "source": [
        "!gunzip GCF_000005845.2_ASM584v2_genomic.fna"
      ],
      "metadata": {
        "id": "83RDAp5PlTiA"
      },
      "execution_count": 30,
      "outputs": []
    },
    {
      "cell_type": "code",
      "source": [
        "!samtools mpileup -f GCF_000005845.2_ASM584v2_genomic.fna alignment_sorted.bam >  my.mpileup"
      ],
      "metadata": {
        "colab": {
          "base_uri": "https://localhost:8080/"
        },
        "id": "GrN1YZaUlDWl",
        "outputId": "8b8a1bd9-8140-4fcf-eba2-6e5dfc3286d6"
      },
      "execution_count": 31,
      "outputs": [
        {
          "output_type": "stream",
          "name": "stdout",
          "text": [
            "[mpileup] 1 samples in 1 input files\n",
            "<mpileup> Set max per-file depth to 8000\n"
          ]
        }
      ]
    },
    {
      "cell_type": "markdown",
      "source": [
        "**Check options in VarScan**"
      ],
      "metadata": {
        "id": "7J-BhjQOlfXJ"
      }
    },
    {
      "cell_type": "code",
      "source": [
        "!java -jar VarScan.v2.4.0.jar mpileup2snp -h"
      ],
      "metadata": {
        "colab": {
          "base_uri": "https://localhost:8080/"
        },
        "id": "JDS-pnaglrIB",
        "outputId": "32482fc8-1a12-4892-8672-1099fd90dafa"
      },
      "execution_count": 33,
      "outputs": [
        {
          "output_type": "stream",
          "name": "stdout",
          "text": [
            "Only SNPs will be reported\n",
            "Warning: No p-value threshold provided, so p-values will not be calculated\n",
            "Min coverage:\t8\n",
            "Min reads2:\t2\n",
            "Min var freq:\t0.2\n",
            "Min avg qual:\t15\n",
            "P-value thresh:\t0.01\n",
            "USAGE: java -jar VarScan.jar mpileup2cns [pileup file] OPTIONS\n",
            "\tmpileup file - The SAMtools mpileup file\n",
            "\n",
            "\tOPTIONS:\n",
            "\t--min-coverage\tMinimum read depth at a position to make a call [8]\n",
            "\t--min-reads2\tMinimum supporting reads at a position to call variants [2]\n",
            "\t--min-avg-qual\tMinimum base quality at a position to count a read [15]\n",
            "\t--min-var-freq\tMinimum variant allele frequency threshold [0.01]\n",
            "\t--min-freq-for-hom\tMinimum frequency to call homozygote [0.75]\n",
            "\t--p-value\tDefault p-value threshold for calling variants [99e-02]\n",
            "\t--strand-filter\tIgnore variants with >90% support on one strand [1]\n",
            "\t--output-vcf\tIf set to 1, outputs in VCF format\n",
            "\t--vcf-sample-list\tFor VCF output, a list of sample names in order, one per line\n",
            "\t--variants\tReport only variant (SNP/indel) positions [0]\n"
          ]
        }
      ]
    },
    {
      "cell_type": "markdown",
      "source": [
        "**Variant calling**"
      ],
      "metadata": {
        "id": "9mCU_uwKoI2Q"
      }
    },
    {
      "cell_type": "code",
      "source": [
        "!java -jar VarScan.v2.4.0.jar  mpileup2snp my.mpileup --min-var-freq 0.7 --variants --output-vcf 1 > VarScan_results.vcf"
      ],
      "metadata": {
        "colab": {
          "base_uri": "https://localhost:8080/"
        },
        "id": "VG5X_57DoR1s",
        "outputId": "342704ec-4092-4f18-8ad7-0620d019f0f4"
      },
      "execution_count": 34,
      "outputs": [
        {
          "output_type": "stream",
          "name": "stdout",
          "text": [
            "Only SNPs will be reported\n",
            "Warning: No p-value threshold provided, so p-values will not be calculated\n",
            "Min coverage:\t8\n",
            "Min reads2:\t2\n",
            "Min var freq:\t0.7\n",
            "Min avg qual:\t15\n",
            "P-value thresh:\t0.01\n",
            "Reading input from my.mpileup\n",
            "4641343 bases in pileup file\n",
            "9 variant positions (6 SNP, 3 indel)\n",
            "1 were failed by the strand-filter\n",
            "5 variant positions reported (5 SNP, 0 indel)\n"
          ]
        }
      ]
    },
    {
      "cell_type": "markdown",
      "source": [
        "Found 5 SNP.\n",
        "Tried to lower the min-var-freq threshold to 50%, and got the same results."
      ],
      "metadata": {
        "id": "F4CHUkQWowKf"
      }
    },
    {
      "cell_type": "markdown",
      "source": [
        "## Automatic SNP annotation"
      ],
      "metadata": {
        "id": "5sEQlxQ1pRz_"
      }
    },
    {
      "cell_type": "markdown",
      "source": [
        "Downloaded snpEff.jar file and GCF_000005845.2_ASM584v2_genomic.gbff.gz (sequence and annotation of our reference)"
      ],
      "metadata": {
        "id": "hT6sbcegqkeI"
      }
    },
    {
      "cell_type": "markdown",
      "source": [
        "**Create snpEff.config**"
      ],
      "metadata": {
        "id": "cQ03Tancrza6"
      }
    },
    {
      "cell_type": "code",
      "source": [
        "!touch snpEff.config \n",
        "!echo \"k12.genome : ecoli_K12\" > snpEff.config "
      ],
      "metadata": {
        "id": "fFcJuZVMqRE7"
      },
      "execution_count": 35,
      "outputs": []
    },
    {
      "cell_type": "markdown",
      "source": [
        "**Create folder for the database**"
      ],
      "metadata": {
        "id": "-vbQJqBbsZJo"
      }
    },
    {
      "cell_type": "code",
      "source": [
        "!mkdir -p data/k12"
      ],
      "metadata": {
        "id": "mgW1iGGBseNz"
      },
      "execution_count": 36,
      "outputs": []
    },
    {
      "cell_type": "markdown",
      "source": [
        "**Put .gbk file there (unzip and rename to genes.gbk)**"
      ],
      "metadata": {
        "id": "fCdLpAFnsszO"
      }
    },
    {
      "cell_type": "code",
      "source": [
        "!gunzip GCF_000005845.2_ASM584v2_genomic.gbff.gz\n",
        "!cp GCF_000005845.2_ASM584v2_genomic.gbff data/k12/genes.gbk"
      ],
      "metadata": {
        "id": "crzLz705svL0"
      },
      "execution_count": 37,
      "outputs": []
    },
    {
      "cell_type": "markdown",
      "source": [
        "**Create database**"
      ],
      "metadata": {
        "id": "5oG_-_xztGGj"
      }
    },
    {
      "cell_type": "code",
      "source": [
        "!java -jar snpEff.jar build -genbank -v k12"
      ],
      "metadata": {
        "colab": {
          "base_uri": "https://localhost:8080/"
        },
        "id": "8VK2ApZPtJBF",
        "outputId": "33cb32ac-35ee-432c-b072-b0b2dfdc45bb"
      },
      "execution_count": 41,
      "outputs": [
        {
          "output_type": "stream",
          "name": "stdout",
          "text": [
            "00:00:00 SnpEff version SnpEff 5.1d (build 2022-04-19 15:49), by Pablo Cingolani\n",
            "00:00:00 Command: 'build'\n",
            "00:00:00 Building database for 'k12'\n",
            "00:00:00 Reading configuration file 'snpEff.config'. Genome: 'k12'\n",
            "00:00:00 Reading config file: /content/snpEff.config\n",
            "00:00:00 done\n",
            "00:00:01 Chromosome: 'NC_000913.3'\tlength: 4641652\n",
            "00:00:01 Create exons from CDS (if needed): \n",
            ".................................................................................................................................................................................................................................................................................................................................................................................................................................................................................................................................................................................................................................................................................................................................................................................................................................................................................................................................................................................................................................................................................................................................................................................................................................................................................................................................................................................................................................................................................................................................................................................................................................................................................................................................................................................................................................................................................................................................................................................................................................................................................................................................................................................................................................................................................................................................................................................................................................................................................................................................................................................................................................................................................................................................................................................................................................................................................................................................................................................................................................................................................................................................................................................................................................................................................................................................................................................................................................................................................................................................................................................................................................................................................................................................................................................................................................................................................................................................................................................................................................................................................................................................................................................................................................................................................................................................................................................................................................................................................................................00:00:01 Exons created for 4315 transcripts.\n",
            "00:00:01 Deleting redundant exons (if needed): \n",
            "00:00:01 \tTotal transcripts with deleted exons: 0\n",
            "00:00:01 Collapsing zero length introns (if needed): \n",
            ".\n",
            "\t\t0\t00:00:01 \tTotal collapsed transcripts: 1\n",
            "00:00:01 \t\tAdding genomic sequences to genes: \n",
            "00:00:01 \tDone (3796 sequences added).\n",
            "00:00:01 \t\tAdding genomic sequences to exons: \n",
            "00:00:02 \tDone (4336 sequences added, 0 ignored).\n",
            "00:00:02 Finishing up genome\n",
            "00:00:02 Adjusting transcripts: \n",
            "00:00:02 Adjusting genes: \n",
            ".00:00:02 Adjusting chromosomes lengths: \n",
            "00:00:02 Ranking exons: \n",
            "00:00:02 Create UTRs from CDS (if needed): \n",
            "00:00:02 Remove empty chromosomes: \n",
            "00:00:02 Marking as 'coding' from CDS information: \n",
            "00:00:02 Done: 17 transcripts marked\n",
            "00:00:02 \n",
            "00:00:02 Caracterizing exons by splicing (stage 1) : \n",
            "\t....\n",
            "00:00:02 Caracterizing exons by splicing (stage 2) : \n",
            "\t....00:00:02 done.\n",
            "00:00:02 [Optional] Rare amino acid annotations\n",
            "WARNING_FILE_NOT_FOUND: Rare Amino Acid analysis: Cannot read protein sequence file '/content/./data/k12/protein.fa', nothing done.\n",
            "00:00:02 CDS check: GenBank file format, skipping\n",
            "\n",
            "00:00:02 Protein check file: '/content/./data/k12/genes.gbk'\n",
            "\n",
            "00:00:02 Checking database using protein sequences\n",
            "00:00:02 Comparing Proteins...\n",
            "\tLabels:\n",
            "\t\t'+' : OK\n",
            "\t\t'.' : Missing\n",
            "\t\t'*' : Error\n",
            "\t+++++++++++++++++++++++++++++++++++++++++++++++++++++++++++++++++++++++++++++++++++++++++++++++++++\n",
            "\t++++++++++++++++++++++++++++++++++++++++++++++++++++++++++++++++++++++++++++++++++++++++++++++++++++\n",
            "\t++++++++++++++++++++++++++++++++++++++++++++++++++++++++++++++++++++++++++++++++++++++++++++++++++++\n",
            "\t++++++++++++++++++++++++++++++++++++++++++++++++++++++++++++++++++++++++++++++++++++++++++++++++++++\n",
            "\t++++++++++++++++++++++++++++++++++++++++++++++++++++++++++++++++++++++++++++++++++++++++++++++++++++\n",
            "\t++++++++++++++++++++++++++++++++++++++++++++++++++++++++++++++++++++++++++++++++++++++++++++++++++++\n",
            "\t++++++++++++++++++++++++++++++++++++++++++++++++++++++++++++++++++++++++++++++++++++++++++++++++++++\n",
            "\t++++++++++++++++++++++++++++++++++++++++++++++++++++++++++++++++++++++++++++++++++++++++++++++++++++\n",
            "\t++++++++++++++++++++++++++++++++++++++++++++++++++++++++++++++++++++++++++++++++++++++++++++++++++++\n",
            "\t++++++++++++++++++++++++++++++++++++++++++++++++++++++++++++++++++++++++++++++++++++++++++++++++++++\n",
            "\t++++++++++++++++++++++++++++++++++++++++++++++++++++++++++++++++++++++++++++++++++++++++++++++++++++\n",
            "\t+++++++++++++++++++++++++++++++++.++++++++++++++++++++++++++++++++++++++++++++++++++++++++++++++++++\n",
            "\t+++++++++++++++++++++++++++++++++++++++++++++++++++++++++++++++++++++.++++++++++++++++++++++++++++++\n",
            "\t++++++++++++++++++++++++++++++++++++++++++++++++++++++++++++++++++++++++++++++++++++++++++++++++++++\n",
            "\t++++++++++++++++++++++++++++++++++++++++++++++++++++++++++++++++++++++++++++++++++++++++++++++++++++\n",
            "\t++++++++++++++++++++++++++++++++++++++++++++++++++++++++++++++++++++++++++++++++++++++++++++++++++++\n",
            "\t++++++++++++++++++++++++++++++++++++++++++++++++++++++++++++++++++++++++++++++++++++++++++++++++++++\n",
            "\t+++++++++++++++++++.++++++++++++++++++++++++++++++++++++++++++++++++++++++++++++++++++++++++++++++++\n",
            "\t++++++++++++++++++++++++++++++++++++++++++++++++++++++++++++++++++++++++++++++++++++++++++++++++++++\n",
            "\t++++++++++++++++++++++++++++++++++++++++++++++++++++++++++++++++++++++++++++++++++++++++++++++++++++\n",
            "\t++++++++++++++++++++++++++++++++++++++++++++++++++++++++++++++++++++++++++++++++++++++++++++++++++++\n",
            "\t++++++++++++++++++++++++++++++++++++++++++++++++++++++++++++++++++++++++++++++++++++++++++++++++++++\n",
            "\t++++++++++++++++++++++++++++++++++++++++++++++++++++++++++++++++++++++++++++++++++++++++++++++++++++\n",
            "\t++++++++++++++++++++++++++++++++++++++++++++++++++++++++++++++++++++++++++++++++++++++++++++++++++++\n",
            "\t++++++++++++++++++++++++++++++++++++++++++++++++++++++++++++++++++++++++++++++++++++++++++++++++++++\n",
            "\t++++++++++++++++++++++++++++++++++++++++++++++++++++++++++++++++++++++++++++++++++++++++++++++++++++\n",
            "\t++++++++++++++++++++++++++++++++++++++++++++++++++++++++++++++++++++++++++++++++++++++++++++++++++++\n",
            "\t++++++++++++++++++++++++++++++++++++++++++++++++++++++++++++++++++++++++++++++++++++++++++++++++++++\n",
            "\t+++++++++++++++++++++++++++++++++++++++++++++++++++++++++++++++++++++..+++++++++.+++++++++++++++++++\n",
            "\t+++++++++++++++++++++++++++++++++++++++++++++++++++++++++++++++++++++++++++++++++++++++++++++++++++.\n",
            "\t+.++++..+++++++++++++++++++.++++++++++++++++++++++++++++++++++++++++++++++++++++++++++++++++++++++++\n",
            "\t++++++++++++++++++++++++++++++++++++++++++++++++++++++++++++++++++.+++++++++++++++++++++++++++++++++\n",
            "\t++++++++++++++++++++++++++++++++++++++++++++++++++++++++++++++++++++++++++++++++++++++++++++++++++++\n",
            "\t++++++++++++++++++++++++++++++++++++++++++++++++++++++++++++++++++++++++++++++++++++++++++++++++++++\n",
            "\t++++++++++++++++++++++++++++++++++++++++++++++++++++++++++++++++++++++++++++++++++++++++++++++++++++\n",
            "\t++++++++++++++++++++++++++++++++++++++++++++++++++++++++++++++++++++++++++++++++++++++++++++++++++++\n",
            "\t++++++++++++++++++++++++++++++++++++++++++++++++++++++++++++++++++++++++++++++++++++++++++++++++++++\n",
            "\t++++++++++++++++++++++++++++++++++++++++++++++++++++++++++++++++++++++++++++++++++++++++++++++++++++\n",
            "\t+++.+++++++++++++++++++.++++++++++++++++++++++++++++++++++++++++++++++++++++++++++++++++++++++++++++\n",
            "\t+++++++++++++++++++++++++++++++++++++++++++++++++++++++.+++++++.++++++++++++++++++++++++++++++++++++\n",
            "\t+++++++++++++++++++++++++++++++++++++++++.++++++++++++++++++++++++++++++++++++++++++++++++++++++++++\n",
            "\t++++++++++++++++++++++++++++++++++++++++++++++++++++++++++++++++++++++++++++++++++++++++++++++++++++\n",
            "\t++++++++++++++++++++++++++++++++++++++++++++++++++++++++++++++++++++++++++++++++++++++++++++++++++++\n",
            "\t++++++++++++++++00:00:03 \n",
            "\n",
            "\tProtein check:\tk12\tOK: 4298\tNot found: 17\tErrors: 0\tError percentage: 0.0%\n",
            "00:00:03 Saving database\n",
            "00:00:04 Saving sequences for chromosome 'NC_000913.3' to file '/content/./data/k12/sequence.NC_000913.3.bin'\n",
            "00:00:04 [Optional] Reading regulation elements: GFF\n",
            "WARNING_FILE_NOT_FOUND: Cannot read optional regulation file '/content/./data/k12/regulation.gff', nothing done.\n",
            "00:00:04 [Optional] Reading regulation elements: BED \n",
            "00:00:04 Cannot find optional regulation dir '/content/./data/k12/regulation.bed/', nothing done.\n",
            "00:00:04 [Optional] Reading motifs: GFF\n",
            "WARNING_FILE_NOT_FOUND: Cannot open PWMs file /content/./data/k12/pwms.bin. Nothing done\n",
            "00:00:04 Done\n",
            "00:00:04 Logging\n",
            "00:00:05 Checking for updates...\n",
            "00:00:05 Done.\n"
          ]
        }
      ]
    },
    {
      "cell_type": "markdown",
      "source": [
        "**Get annotations**"
      ],
      "metadata": {
        "id": "jecginPGtlDm"
      }
    },
    {
      "cell_type": "code",
      "source": [
        "!java -jar snpEff.jar ann k12 VarScan_results.vcf > VarScan_results_annotated.vcf"
      ],
      "metadata": {
        "id": "EffA9W_0tnPF"
      },
      "execution_count": 42,
      "outputs": []
    },
    {
      "cell_type": "code",
      "source": [
        "!cat VarScan_results_annotated.vcf | grep -v \"^#\""
      ],
      "metadata": {
        "colab": {
          "base_uri": "https://localhost:8080/"
        },
        "id": "LKQAhXNAvu0R",
        "outputId": "c559fe41-1693-4273-a169-1e842a2e308c"
      },
      "execution_count": 43,
      "outputs": [
        {
          "output_type": "stream",
          "name": "stdout",
          "text": [
            "NC_000913.3\t93043\t.\tC\tG\t.\tPASS\tADP=17;WT=0;HET=0;HOM=1;NC=0;ANN=G|missense_variant|MODERATE|ftsI|b0084|transcript|b0084|protein_coding|1/1|c.1631C>G|p.Ala544Gly|1631/1767|1631/1767|544/588||,G|upstream_gene_variant|MODIFIER|murE|b0085|transcript|b0085|protein_coding||c.-123C>G|||||123|WARNING_TRANSCRIPT_NO_START_CODON,G|upstream_gene_variant|MODIFIER|murF|b0086|transcript|b0086|protein_coding||c.-1607C>G|||||1607|,G|upstream_gene_variant|MODIFIER|mraY|b0087|transcript|b0087|protein_coding||c.-2959C>G|||||2959|,G|upstream_gene_variant|MODIFIER|murD|b0088|transcript|b0088|protein_coding||c.-4044C>G|||||4044|,G|downstream_gene_variant|MODIFIER|cra|b0080|transcript|b0080|protein_coding||c.*4011C>G|||||4011|WARNING_TRANSCRIPT_NO_START_CODON,G|downstream_gene_variant|MODIFIER|mraZ|b0081|transcript|b0081|protein_coding||c.*2951C>G|||||2951|,G|downstream_gene_variant|MODIFIER|rsmH|b0082|transcript|b0082|protein_coding||c.*2008C>G|||||2008|,G|downstream_gene_variant|MODIFIER|ftsL|b0083|transcript|b0083|protein_coding||c.*1646C>G|||||1646|\tGT:GQ:SDP:DP:RD:AD:FREQ:PVAL:RBQ:ABQ:RDF:RDR:ADF:ADR\t1/1:93:18:17:0:17:100%:4.2852E-10:0:36:0:0:6:11\n",
            "NC_000913.3\t482698\t.\tT\tA\t.\tPASS\tADP=16;WT=0;HET=0;HOM=1;NC=0;ANN=A|missense_variant|MODERATE|acrB|b0462|transcript|b0462|protein_coding|1/1|c.1706A>T|p.Gln569Leu|1706/3150|1706/3150|569/1049||,A|upstream_gene_variant|MODIFIER|pdeB|b0457|transcript|b0457|protein_coding||c.-4081A>T|||||4081|WARNING_TRANSCRIPT_NO_START_CODON,A|upstream_gene_variant|MODIFIER|ylaC|b0458|transcript|b0458|protein_coding||c.-3447A>T|||||3447|,A|upstream_gene_variant|MODIFIER|maa|b0459|transcript|b0459|protein_coding||c.-2780A>T|||||2780|,A|upstream_gene_variant|MODIFIER|hha|b0460|transcript|b0460|protein_coding||c.-2390A>T|||||2390|,A|upstream_gene_variant|MODIFIER|tomB|b0461|transcript|b0461|protein_coding||c.-1990A>T|||||1990|,A|upstream_gene_variant|MODIFIER|acrR|b0464|transcript|b0464|protein_coding||c.-3063T>A|||||3063|,A|upstream_gene_variant|MODIFIER|mscK|b0465|transcript|b0465|protein_coding||c.-3838T>A|||||3838|,A|downstream_gene_variant|MODIFIER|acrA|b0463|transcript|b0463|protein_coding||c.*1728A>T|||||1728|\tGT:GQ:SDP:DP:RD:AD:FREQ:PVAL:RBQ:ABQ:RDF:RDR:ADF:ADR\t1/1:87:16:16:0:16:100%:1.6637E-9:0:45:0:0:12:4\n",
            "NC_000913.3\t852762\t.\tA\tG\t.\tPASS\tADP=14;WT=0;HET=0;HOM=1;NC=0;ANN=G|upstream_gene_variant|MODIFIER|glnH|b0811|transcript|b0811|protein_coding||c.-4758T>C|||||4758|,G|upstream_gene_variant|MODIFIER|dps|b0812|transcript|b0812|protein_coding||c.-3851T>C|||||3851|,G|upstream_gene_variant|MODIFIER|rhtA|b0813|transcript|b0813|protein_coding||c.-2665T>C|||||2665|,G|upstream_gene_variant|MODIFIER|opgE|b0815|transcript|b0815|protein_coding||c.-165T>C|||||165|,G|upstream_gene_variant|MODIFIER|mntR|b0817|transcript|b0817|protein_coding||c.-421A>G|||||421|,G|upstream_gene_variant|MODIFIER|ybiR|b0818|transcript|b0818|protein_coding||c.-885A>G|||||885|,G|upstream_gene_variant|MODIFIER|ybiT|b0820|transcript|b0820|protein_coding||c.-3201A>G|||||3201|WARNING_TRANSCRIPT_NO_START_CODON,G|downstream_gene_variant|MODIFIER|yliM|b4736|transcript|b4736|protein_coding||c.*2365A>G|||||2365|,G|downstream_gene_variant|MODIFIER|ompX|b0814|transcript|b0814|protein_coding||c.*1797A>G|||||1797|,G|downstream_gene_variant|MODIFIER|mntS|b4705|transcript|b4705|protein_coding||c.*107T>C|||||107|,G|downstream_gene_variant|MODIFIER|ldtB|b0819|transcript|b0819|protein_coding||c.*2062T>C|||||2062|,G|intragenic_variant|MODIFIER|rybA|b4416|gene_variant|b4416|||n.852762A>G||||||\tGT:GQ:SDP:DP:RD:AD:FREQ:PVAL:RBQ:ABQ:RDF:RDR:ADF:ADR\t1/1:76:14:14:0:14:100%:2.4927E-8:0:36:0:0:9:5\n",
            "NC_000913.3\t3535147\t.\tA\tC\t.\tPASS\tADP=18;WT=0;HET=0;HOM=1;NC=0;ANN=C|missense_variant|MODERATE|envZ|b3404|transcript|b3404|protein_coding|1/1|c.722T>G|p.Val241Gly|722/1353|722/1353|241/450||,C|upstream_gene_variant|MODIFIER|yhgE|b3402|transcript|b3402|protein_coding||c.-2708T>G|||||2708|,C|upstream_gene_variant|MODIFIER|greB|b3406|transcript|b3406|protein_coding||c.-1665A>C|||||1665|,C|upstream_gene_variant|MODIFIER|yhgF|b3407|transcript|b3407|protein_coding||c.-2238A>C|||||2238|,C|downstream_gene_variant|MODIFIER|hslO|b3401|transcript|b3401|protein_coding||c.*4495A>C|||||4495|,C|downstream_gene_variant|MODIFIER|pck|b3403|transcript|b3403|protein_coding||c.*707A>C|||||707|,C|downstream_gene_variant|MODIFIER|ompR|b3405|transcript|b3405|protein_coding||c.*718T>G|||||718|\tGT:GQ:SDP:DP:RD:AD:FREQ:PVAL:RBQ:ABQ:RDF:RDR:ADF:ADR\t1/1:99:18:18:0:18:100%:1.1019E-10:0:34:0:0:12:6\n",
            "NC_000913.3\t4390754\t.\tG\tT\t.\tPASS\tADP=15;WT=0;HET=0;HOM=1;NC=0;ANN=T|synonymous_variant|LOW|rsgA|b4161|transcript|b4161|protein_coding|1/1|c.756C>A|p.Ala252Ala|756/1053|756/1053|252/350||WARNING_TRANSCRIPT_NO_START_CODON,T|upstream_gene_variant|MODIFIER|mscM|b4159|transcript|b4159|protein_coding||c.-1384C>A|||||1384|WARNING_TRANSCRIPT_NO_START_CODON,T|upstream_gene_variant|MODIFIER|psd|b4160|transcript|b4160|protein_coding||c.-394C>A|||||394|WARNING_TRANSCRIPT_NO_START_CODON,T|upstream_gene_variant|MODIFIER|orn|b4162|transcript|b4162|protein_coding||c.-850G>T|||||850|,T|upstream_gene_variant|MODIFIER|yjeV|b4670|transcript|b4670|protein_coding||c.-2138G>T|||||2138|,T|upstream_gene_variant|MODIFIER|nnr|b4167|transcript|b4167|protein_coding||c.-3312G>T|||||3312|,T|upstream_gene_variant|MODIFIER|tsaE|b4168|transcript|b4168|protein_coding||c.-4831G>T|||||4831|,T|downstream_gene_variant|MODIFIER|yjeO|b4158|transcript|b4158|protein_coding||c.*4736G>T|||||4736|,T|downstream_gene_variant|MODIFIER|queG|b4166|transcript|b4166|protein_coding||c.*2174C>A|||||2174|\tGT:GQ:SDP:DP:RD:AD:FREQ:PVAL:RBQ:ABQ:RDF:RDR:ADF:ADR\t1/1:81:16:15:0:15:100%:6.4467E-9:0:36:0:0:8:7\n"
          ]
        }
      ]
    }
  ]
}